{
  "nbformat": 4,
  "nbformat_minor": 0,
  "metadata": {
    "colab": {
      "name": "tugascrawling.ipynb",
      "provenance": [],
      "collapsed_sections": []
    },
    "kernelspec": {
      "name": "python3",
      "display_name": "Python 3"
    }
  },
  "cells": [
    {
      "cell_type": "code",
      "metadata": {
        "colab": {
          "resources": {
            "http://localhost:8080/nbextensions/google.colab/files.js": {
              "data": "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",
              "ok": true,
              "headers": [
                [
                  "content-type",
                  "application/javascript"
                ]
              ],
              "status": 200,
              "status_text": ""
            }
          },
          "base_uri": "https://localhost:8080/",
          "height": 73
        },
        "id": "tJffWZHRcMdr",
        "outputId": "0e6728d5-fa8e-486a-f665-05981a1ce28b"
      },
      "source": [
        "import pandas as pd\r\n",
        "from google.colab import files\r\n",
        "filenya = files.upload()"
      ],
      "execution_count": null,
      "outputs": [
        {
          "output_type": "display_data",
          "data": {
            "text/html": [
              "\n",
              "     <input type=\"file\" id=\"files-4145f9dc-b8b4-46c6-b07f-087a7f521ba8\" name=\"files[]\" multiple disabled\n",
              "        style=\"border:none\" />\n",
              "     <output id=\"result-4145f9dc-b8b4-46c6-b07f-087a7f521ba8\">\n",
              "      Upload widget is only available when the cell has been executed in the\n",
              "      current browser session. Please rerun this cell to enable.\n",
              "      </output>\n",
              "      <script src=\"/nbextensions/google.colab/files.js\"></script> "
            ],
            "text/plain": [
              "<IPython.core.display.HTML object>"
            ]
          },
          "metadata": {
            "tags": []
          }
        },
        {
          "output_type": "stream",
          "text": [
            "Saving url.csv to url.csv\n"
          ],
          "name": "stdout"
        }
      ]
    },
    {
      "cell_type": "code",
      "metadata": {
        "colab": {
          "resources": {
            "http://localhost:8080/nbextensions/google.colab/files.js": {
              "data": "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",
              "ok": true,
              "headers": [
                [
                  "content-type",
                  "application/javascript"
                ]
              ],
              "status": 200,
              "status_text": ""
            }
          },
          "base_uri": "https://localhost:8080/",
          "height": 73
        },
        "id": "udY-U9jTRWhn",
        "outputId": "f3cceb4a-58e3-418b-bd3f-7ae6a1f06547"
      },
      "source": [
        "import pandas as pd\r\n",
        "from google.colab import files\r\n",
        "filenya = files.upload()"
      ],
      "execution_count": null,
      "outputs": [
        {
          "output_type": "display_data",
          "data": {
            "text/html": [
              "\n",
              "     <input type=\"file\" id=\"files-80da3c76-97ee-4654-99e0-31f6781279b5\" name=\"files[]\" multiple disabled\n",
              "        style=\"border:none\" />\n",
              "     <output id=\"result-80da3c76-97ee-4654-99e0-31f6781279b5\">\n",
              "      Upload widget is only available when the cell has been executed in the\n",
              "      current browser session. Please rerun this cell to enable.\n",
              "      </output>\n",
              "      <script src=\"/nbextensions/google.colab/files.js\"></script> "
            ],
            "text/plain": [
              "<IPython.core.display.HTML object>"
            ]
          },
          "metadata": {
            "tags": []
          }
        },
        {
          "output_type": "stream",
          "text": [
            "Saving url.csv to url (1).csv\n"
          ],
          "name": "stdout"
        }
      ]
    },
    {
      "cell_type": "code",
      "metadata": {
        "colab": {
          "base_uri": "https://localhost:8080/"
        },
        "id": "ZP4Sk4csRcUe",
        "outputId": "d6c941a6-ba16-495a-be5f-289f7bedb886"
      },
      "source": [
        "filenya"
      ],
      "execution_count": null,
      "outputs": [
        {
          "output_type": "execute_result",
          "data": {
            "text/plain": [
              "{'url.csv': b'url\\r\\nhttps://www.guru99.com/python-tutorials.html\\r\\nhttps://www.w3schools.com/python/\\r\\nhttp://jagocoding.com/tag/python\\r\\nhttps://yadishare.wordpress.com/2018/01/16/tutorial-belajar-visual-basic-6-dari-dasar-untuk-pemula/\\r\\nhttps://www.dewaweb.com/blog/belajar-coding-untuk-pemula/\\r\\nhttps://belajarphp.net/belajar-html-dan-css/\\r\\nhttps://www.kodingindonesia.com/belajar-pemrograman-visual-java-menggunakan-netbeans-bagian-1/\\r\\nhttps://badoystudio.com/belajar-android-untuk-pemula/\\r\\nhttps://www.domainesia.com/berita/belajar-coding-untuk-pemula/\\r\\nhttps://www.kompasiana.com/deniasilvia95/5c527fa9ab12ae2cde5a1815/cara-belajar-coding-untuk-pemula-dengan-mudah\\r\\n'}"
            ]
          },
          "metadata": {
            "tags": []
          },
          "execution_count": 8
        }
      ]
    },
    {
      "cell_type": "code",
      "metadata": {
        "colab": {
          "base_uri": "https://localhost:8080/"
        },
        "id": "mFSDiLUucqi-",
        "outputId": "40fa401d-7842-43b6-ce5b-e017cce1d600"
      },
      "source": [
        "filenya"
      ],
      "execution_count": null,
      "outputs": [
        {
          "output_type": "execute_result",
          "data": {
            "text/plain": [
              "{'url.csv': b'url\\r\\nhttps://www.guru99.com/python-tutorials.html\\r\\nhttps://www.w3schools.com/python/\\r\\nhttp://jagocoding.com/tag/python\\r\\nhttps://yadishare.wordpress.com/2018/01/16/tutorial-belajar-visual-basic-6-dari-dasar-untuk-pemula/\\r\\nhttps://www.dewaweb.com/blog/belajar-coding-untuk-pemula/\\r\\nhttps://belajarphp.net/belajar-html-dan-css/\\r\\nhttps://www.kodingindonesia.com/belajar-pemrograman-visual-java-menggunakan-netbeans-bagian-1/\\r\\nhttps://badoystudio.com/belajar-android-untuk-pemula/\\r\\nhttps://www.domainesia.com/berita/belajar-coding-untuk-pemula/\\r\\nhttps://www.kompasiana.com/deniasilvia95/5c527fa9ab12ae2cde5a1815/cara-belajar-coding-untuk-pemula-dengan-mudah\\r\\n'}"
            ]
          },
          "metadata": {
            "tags": []
          },
          "execution_count": 9
        }
      ]
    },
    {
      "cell_type": "code",
      "metadata": {
        "colab": {
          "base_uri": "https://localhost:8080/"
        },
        "id": "hIbbfawIc8bz",
        "outputId": "19f6c0f7-7876-437c-ef91-a245dc20a244"
      },
      "source": [
        "import io\r\n",
        "df = pd.read_csv(io.StringIO(filenya['url.csv'].decode('utf-8')))\r\n",
        "print(df)"
      ],
      "execution_count": null,
      "outputs": [
        {
          "output_type": "stream",
          "text": [
            "                                                 url\n",
            "0       https://www.guru99.com/python-tutorials.html\n",
            "1                  https://www.w3schools.com/python/\n",
            "2                   http://jagocoding.com/tag/python\n",
            "3  https://yadishare.wordpress.com/2018/01/16/tut...\n",
            "4  https://www.dewaweb.com/blog/belajar-coding-un...\n",
            "5       https://belajarphp.net/belajar-html-dan-css/\n",
            "6  https://www.kodingindonesia.com/belajar-pemrog...\n",
            "7  https://badoystudio.com/belajar-android-untuk-...\n",
            "8  https://www.domainesia.com/berita/belajar-codi...\n",
            "9  https://www.kompasiana.com/deniasilvia95/5c527...\n"
          ],
          "name": "stdout"
        }
      ]
    },
    {
      "cell_type": "code",
      "metadata": {
        "colab": {
          "base_uri": "https://localhost:8080/"
        },
        "id": "ii06LJ65doS8",
        "outputId": "0f3870f2-584c-40ff-c047-03736167fd22"
      },
      "source": [
        "df.head"
      ],
      "execution_count": null,
      "outputs": [
        {
          "output_type": "execute_result",
          "data": {
            "text/plain": [
              "<bound method NDFrame.head of                                                  url\n",
              "0       https://www.guru99.com/python-tutorials.html\n",
              "1                  https://www.w3schools.com/python/\n",
              "2                   http://jagocoding.com/tag/python\n",
              "3  https://yadishare.wordpress.com/2018/01/16/tut...\n",
              "4  https://www.dewaweb.com/blog/belajar-coding-un...\n",
              "5       https://belajarphp.net/belajar-html-dan-css/\n",
              "6  https://www.kodingindonesia.com/belajar-pemrog...\n",
              "7  https://badoystudio.com/belajar-android-untuk-...\n",
              "8  https://www.domainesia.com/berita/belajar-codi...\n",
              "9  https://www.kompasiana.com/deniasilvia95/5c527...>"
            ]
          },
          "metadata": {
            "tags": []
          },
          "execution_count": 11
        }
      ]
    },
    {
      "cell_type": "code",
      "metadata": {
        "colab": {
          "base_uri": "https://localhost:8080/",
          "height": 359
        },
        "id": "jenrSQiQdv3I",
        "outputId": "75e36918-2ab7-430c-f127-d37de2d20df2"
      },
      "source": [
        "from bs4 import BeautifulSoup\r\n",
        "import pandas as PD\r\n",
        "df_crawling = PD.read_csv(\"url.csv\")\r\n",
        "df_crawling"
      ],
      "execution_count": null,
      "outputs": [
        {
          "output_type": "execute_result",
          "data": {
            "text/html": [
              "<div>\n",
              "<style scoped>\n",
              "    .dataframe tbody tr th:only-of-type {\n",
              "        vertical-align: middle;\n",
              "    }\n",
              "\n",
              "    .dataframe tbody tr th {\n",
              "        vertical-align: top;\n",
              "    }\n",
              "\n",
              "    .dataframe thead th {\n",
              "        text-align: right;\n",
              "    }\n",
              "</style>\n",
              "<table border=\"1\" class=\"dataframe\">\n",
              "  <thead>\n",
              "    <tr style=\"text-align: right;\">\n",
              "      <th></th>\n",
              "      <th>url</th>\n",
              "    </tr>\n",
              "  </thead>\n",
              "  <tbody>\n",
              "    <tr>\n",
              "      <th>0</th>\n",
              "      <td>https://www.guru99.com/python-tutorials.html</td>\n",
              "    </tr>\n",
              "    <tr>\n",
              "      <th>1</th>\n",
              "      <td>https://www.w3schools.com/python/</td>\n",
              "    </tr>\n",
              "    <tr>\n",
              "      <th>2</th>\n",
              "      <td>http://jagocoding.com/tag/python</td>\n",
              "    </tr>\n",
              "    <tr>\n",
              "      <th>3</th>\n",
              "      <td>https://yadishare.wordpress.com/2018/01/16/tut...</td>\n",
              "    </tr>\n",
              "    <tr>\n",
              "      <th>4</th>\n",
              "      <td>https://www.dewaweb.com/blog/belajar-coding-un...</td>\n",
              "    </tr>\n",
              "    <tr>\n",
              "      <th>5</th>\n",
              "      <td>https://belajarphp.net/belajar-html-dan-css/</td>\n",
              "    </tr>\n",
              "    <tr>\n",
              "      <th>6</th>\n",
              "      <td>https://www.kodingindonesia.com/belajar-pemrog...</td>\n",
              "    </tr>\n",
              "    <tr>\n",
              "      <th>7</th>\n",
              "      <td>https://badoystudio.com/belajar-android-untuk-...</td>\n",
              "    </tr>\n",
              "    <tr>\n",
              "      <th>8</th>\n",
              "      <td>https://www.domainesia.com/berita/belajar-codi...</td>\n",
              "    </tr>\n",
              "    <tr>\n",
              "      <th>9</th>\n",
              "      <td>https://www.kompasiana.com/deniasilvia95/5c527...</td>\n",
              "    </tr>\n",
              "  </tbody>\n",
              "</table>\n",
              "</div>"
            ],
            "text/plain": [
              "                                                 url\n",
              "0       https://www.guru99.com/python-tutorials.html\n",
              "1                  https://www.w3schools.com/python/\n",
              "2                   http://jagocoding.com/tag/python\n",
              "3  https://yadishare.wordpress.com/2018/01/16/tut...\n",
              "4  https://www.dewaweb.com/blog/belajar-coding-un...\n",
              "5       https://belajarphp.net/belajar-html-dan-css/\n",
              "6  https://www.kodingindonesia.com/belajar-pemrog...\n",
              "7  https://badoystudio.com/belajar-android-untuk-...\n",
              "8  https://www.domainesia.com/berita/belajar-codi...\n",
              "9  https://www.kompasiana.com/deniasilvia95/5c527..."
            ]
          },
          "metadata": {
            "tags": []
          },
          "execution_count": 12
        }
      ]
    },
    {
      "cell_type": "code",
      "metadata": {
        "colab": {
          "base_uri": "https://localhost:8080/"
        },
        "id": "VpnVUnzMdxxW",
        "outputId": "e28c6fd9-8490-4acb-b7fc-53e674622dc0"
      },
      "source": [
        "listurl = df_crawling['url'].tolist()\r\n",
        "listurl"
      ],
      "execution_count": null,
      "outputs": [
        {
          "output_type": "execute_result",
          "data": {
            "text/plain": [
              "['https://www.guru99.com/python-tutorials.html',\n",
              " 'https://www.w3schools.com/python/',\n",
              " 'http://jagocoding.com/tag/python',\n",
              " 'https://yadishare.wordpress.com/2018/01/16/tutorial-belajar-visual-basic-6-dari-dasar-untuk-pemula/',\n",
              " 'https://www.dewaweb.com/blog/belajar-coding-untuk-pemula/',\n",
              " 'https://belajarphp.net/belajar-html-dan-css/',\n",
              " 'https://www.kodingindonesia.com/belajar-pemrograman-visual-java-menggunakan-netbeans-bagian-1/',\n",
              " 'https://badoystudio.com/belajar-android-untuk-pemula/',\n",
              " 'https://www.domainesia.com/berita/belajar-coding-untuk-pemula/',\n",
              " 'https://www.kompasiana.com/deniasilvia95/5c527fa9ab12ae2cde5a1815/cara-belajar-coding-untuk-pemula-dengan-mudah']"
            ]
          },
          "metadata": {
            "tags": []
          },
          "execution_count": 13
        }
      ]
    },
    {
      "cell_type": "code",
      "metadata": {
        "colab": {
          "base_uri": "https://localhost:8080/",
          "height": 359
        },
        "id": "noxvkcsfd2LF",
        "outputId": "e449e696-72ad-44e7-f09d-c0f7c0b2b581"
      },
      "source": [
        "from urllib.request import urlopen\r\n",
        "from urllib.error import HTTPError\r\n",
        "from urllib.error import URLError\r\n",
        "from socket import error as SocketError\r\n",
        "import requests\r\n",
        "import numpy as NP\r\n",
        "\r\n",
        "link = []\r\n",
        "data = []\r\n",
        "halaman = []\r\n",
        "\r\n",
        "for page in listurl:\r\n",
        "    \r\n",
        "    try:\r\n",
        "        html = urlopen(page)\r\n",
        "    \r\n",
        "    except HTTPError:\r\n",
        "        text = NP.nan\r\n",
        "    \r\n",
        "    except URLError:\r\n",
        "        text = NP.nan\r\n",
        "    \r\n",
        "    except SocketError:\r\n",
        "        text = NP.nan\r\n",
        "\r\n",
        "    else:\r\n",
        "        html = html.read()\r\n",
        "        soup = BeautifulSoup(html)\r\n",
        "    \r\n",
        "        for script in soup([\"script\", \"style\",\"class\"]):\r\n",
        "            script.extract()  \r\n",
        "    \r\n",
        "        text = soup.get_text()        \r\n",
        "        multipages = soup.find_all('a')        \r\n",
        "         \r\n",
        "        lines = (line.strip() for line in text.splitlines())\r\n",
        "        chunks = (phrase.strip() for line in lines for phrase in line.split(\"  \"))\r\n",
        "        text = ' '.join(chunk for chunk in chunks if chunk)\r\n",
        "    \r\n",
        "        \r\n",
        "      \r\n",
        "      \r\n",
        "        \r\n",
        "    link.append(page)\r\n",
        "    data.append(text)\r\n",
        "    halaman.append(multipages)\r\n",
        "    \r\n",
        "list_data = list(zip(link, data, halaman))    \r\n",
        "mydf = PD.DataFrame(list_data, columns = ['Link', 'Data', 'Halaman'])\r\n",
        "mydf"
      ],
      "execution_count": null,
      "outputs": [
        {
          "output_type": "execute_result",
          "data": {
            "text/html": [
              "<div>\n",
              "<style scoped>\n",
              "    .dataframe tbody tr th:only-of-type {\n",
              "        vertical-align: middle;\n",
              "    }\n",
              "\n",
              "    .dataframe tbody tr th {\n",
              "        vertical-align: top;\n",
              "    }\n",
              "\n",
              "    .dataframe thead th {\n",
              "        text-align: right;\n",
              "    }\n",
              "</style>\n",
              "<table border=\"1\" class=\"dataframe\">\n",
              "  <thead>\n",
              "    <tr style=\"text-align: right;\">\n",
              "      <th></th>\n",
              "      <th>Link</th>\n",
              "      <th>Data</th>\n",
              "      <th>Halaman</th>\n",
              "    </tr>\n",
              "  </thead>\n",
              "  <tbody>\n",
              "    <tr>\n",
              "      <th>0</th>\n",
              "      <td>https://www.guru99.com/python-tutorials.html</td>\n",
              "      <td>Python Tutorials for Beginners Home Testing Ba...</td>\n",
              "      <td>[[ , [],  ], [ , [ , &lt;span class=\"g-menu-item-...</td>\n",
              "    </tr>\n",
              "    <tr>\n",
              "      <th>1</th>\n",
              "      <td>https://www.w3schools.com/python/</td>\n",
              "      <td>Python Tutorial w3schools.com LOG IN THE WORLD...</td>\n",
              "      <td>[[w3schools, [.com]], [], [], [HTML], [CSS], [...</td>\n",
              "    </tr>\n",
              "    <tr>\n",
              "      <th>2</th>\n",
              "      <td>http://jagocoding.com/tag/python</td>\n",
              "      <td>Tutorial python - Jagocoding.com Toggle naviga...</td>\n",
              "      <td>[[[]], [Tutorials], [Articles], [Snippets], [[...</td>\n",
              "    </tr>\n",
              "    <tr>\n",
              "      <th>3</th>\n",
              "      <td>https://yadishare.wordpress.com/2018/01/16/tut...</td>\n",
              "      <td>Tutorial Belajar Visual Basic 6 Dari Dasar Unt...</td>\n",
              "      <td>[[Lanjut ke konten], [yadishare], [Odoo/OpenER...</td>\n",
              "    </tr>\n",
              "    <tr>\n",
              "      <th>4</th>\n",
              "      <td>https://www.dewaweb.com/blog/belajar-coding-un...</td>\n",
              "      <td>NaN</td>\n",
              "      <td>[[Lanjut ke konten], [yadishare], [Odoo/OpenER...</td>\n",
              "    </tr>\n",
              "    <tr>\n",
              "      <th>5</th>\n",
              "      <td>https://belajarphp.net/belajar-html-dan-css/</td>\n",
              "      <td>Belajar HTML Dan CSS Lengkap Untuk Pemula +628...</td>\n",
              "      <td>[[[]], [[]], [[]], [[]], [[]], [\\n, [], [&lt;img ...</td>\n",
              "    </tr>\n",
              "    <tr>\n",
              "      <th>6</th>\n",
              "      <td>https://www.kodingindonesia.com/belajar-pemrog...</td>\n",
              "      <td>Belajar Pemrograman Visual Java Menggunakan Ne...</td>\n",
              "      <td>[[\\n, [], \\n], [\\n, [], \\n], [Tentang Kami], [...</td>\n",
              "    </tr>\n",
              "    <tr>\n",
              "      <th>7</th>\n",
              "      <td>https://badoystudio.com/belajar-android-untuk-...</td>\n",
              "      <td>√ Belajar Android untuk Pemula dengan Android ...</td>\n",
              "      <td>[[Skip to main content], [Badoy Studio], [Home...</td>\n",
              "    </tr>\n",
              "    <tr>\n",
              "      <th>8</th>\n",
              "      <td>https://www.domainesia.com/berita/belajar-codi...</td>\n",
              "      <td>NaN</td>\n",
              "      <td>[[Skip to main content], [Badoy Studio], [Home...</td>\n",
              "    </tr>\n",
              "    <tr>\n",
              "      <th>9</th>\n",
              "      <td>https://www.kompasiana.com/deniasilvia95/5c527...</td>\n",
              "      <td>Cara Belajar Coding untuk Pemula dengan Mudah ...</td>\n",
              "      <td>[[[]], [[&lt;use xlink:href=\"#icon-menu\"&gt;&lt;/use&gt;],...</td>\n",
              "    </tr>\n",
              "  </tbody>\n",
              "</table>\n",
              "</div>"
            ],
            "text/plain": [
              "                                                Link  ...                                            Halaman\n",
              "0       https://www.guru99.com/python-tutorials.html  ...  [[ , [],  ], [ , [ , <span class=\"g-menu-item-...\n",
              "1                  https://www.w3schools.com/python/  ...  [[w3schools, [.com]], [], [], [HTML], [CSS], [...\n",
              "2                   http://jagocoding.com/tag/python  ...  [[[]], [Tutorials], [Articles], [Snippets], [[...\n",
              "3  https://yadishare.wordpress.com/2018/01/16/tut...  ...  [[Lanjut ke konten], [yadishare], [Odoo/OpenER...\n",
              "4  https://www.dewaweb.com/blog/belajar-coding-un...  ...  [[Lanjut ke konten], [yadishare], [Odoo/OpenER...\n",
              "5       https://belajarphp.net/belajar-html-dan-css/  ...  [[[]], [[]], [[]], [[]], [[]], [\\n, [], [<img ...\n",
              "6  https://www.kodingindonesia.com/belajar-pemrog...  ...  [[\\n, [], \\n], [\\n, [], \\n], [Tentang Kami], [...\n",
              "7  https://badoystudio.com/belajar-android-untuk-...  ...  [[Skip to main content], [Badoy Studio], [Home...\n",
              "8  https://www.domainesia.com/berita/belajar-codi...  ...  [[Skip to main content], [Badoy Studio], [Home...\n",
              "9  https://www.kompasiana.com/deniasilvia95/5c527...  ...  [[[]], [[<use xlink:href=\"#icon-menu\"></use>],...\n",
              "\n",
              "[10 rows x 3 columns]"
            ]
          },
          "metadata": {
            "tags": []
          },
          "execution_count": 14
        }
      ]
    },
    {
      "cell_type": "code",
      "metadata": {
        "id": "F7bY6syzd_aj"
      },
      "source": [
        "export_excel = mydf.to_excel ('hasilcrawlingtrue.xlsx', index = None, header=True)"
      ],
      "execution_count": null,
      "outputs": []
    },
    {
      "cell_type": "code",
      "metadata": {
        "colab": {
          "base_uri": "https://localhost:8080/",
          "height": 137
        },
        "id": "V5mEEYMaeDq3",
        "outputId": "c9e9f48c-fc98-4ad5-8b30-f21b58ca9c17"
      },
      "source": [
        "data [3]"
      ],
      "execution_count": null,
      "outputs": [
        {
          "output_type": "execute_result",
          "data": {
            "application/vnd.google.colaboratory.intrinsic+json": {
              "type": "string"
            },
            "text/plain": [
              "'Tutorial Belajar Visual Basic 6 Dari Dasar Untuk Pemula – yadishare Lanjut ke konten berbagi informasi seputar youtube, bahasa pemrograman, pengalaman dan teknologi lainnya… yadishare Menu Odoo/OpenERP Delphi XE5 Database Tips Web Server HTML & CSS Php Codeigniter Prestashop vb6 Visual Basic HTML & CSS Photoshop WordPress My Video Tutorial cara mengenal dan membuat form di aplikasi delphi-XE How to make a barcode label printing with delphi XE Cara membuat gambar tutorial dengan aplikasi paint Cara membuat dan mengedit gambar dengan aplikasi Paint Cara menyembunyikan form delphi ke dalam system tray Tutorial membuat video menggunakan camstudio Tutorial Belajar Visual Basic 6 Dari Dasar Untuk\\xa0Pemula 16 Januari 201815 September 2020 oleh yadishare, posted in vb6, Visual Basic Hai sobat yadishare, ceritanya beberapa waktu lalu kurang lebih 2-3 bulan yang lalu saya mendapatkan notifikasi dari salah satu group di G+ yang saya ikuti. Setelah saya baca isinya mengenai seseorang yang menanyakan apakah ada tutorial mengenai visual basic dari dasar yang bisa dipelajari untuk tugas kuliah. Dia menanyakan hal tersebut menggunakan bahasa inggris karena memang group tersebut berasal dari luar negeri. Namun saya tahu bahwa dia berasal dari Indonesia karena dari sisi nama dan penulisan bahasanya sangat jelas kelihatan disitu. Mendengar hal itu spontan saja saya langsung berusaha untuk merespon dan membantu dengan memberikan informasi berupa link artikel dan link video yang bisa dijadikan referensi untuk belajar. Obrolan pun berlanjut dan akhirnya saya tahu bahwa ternyata visual basic 6 masih menjadi bagian dari kurikulum yang ada di kampus tempat dia kuliah. Awalnya saya sempat sedikit heran. Karena visual basic 6 adalah bahasa pemrograman yang tergolong usang. Tempatnya sekarang sudah digantikan posisinya oleh Visual Basic .Net (VB.NET) dengan menggunakan .Net sebagai frameworknya. Namun meskipun begitu visual basic 6 menurut saya masih cukup powerful dan banyak digunakan juga oleh para developer yang ada di indonesia. Karena selain ringan bahasa pemrograman yang satu ini memang sangat mudah untuk dipelajari dan cocok digunakan sebagai batu loncatan untuk menguasai bahasa pemrograman lainnya. Atas dasar itulah disini saya akan mencoba untuk sharing sedikit ilmu yang saya miliki mengenai visual basic 6 dengan harapan bisa bermanfaat untuk teman-teman yang memang sekarang ini masih kuliah dan ingin mempelajari bahasa pemrograman tersebut dari dasar. Terima kasih sudah berkunjung dan membaca artikel saya kali ini, sampai jumpa 🙂 Bagikan ini:TwitterFacebookMenyukai ini:Suka Memuat... Dengan kaitkata Tutorial VB6, vb6, VB6 Tutorial, Visual Basic, visual studio, Visual Studio IDE Navigasi pos Previous postCara Mencetak Barcode Data Barang Menggunakan Delphi XE, MySQL Dan\\xa0FastReportNext postAturan Monetisasi Youtube Terbaru 2018 (Mau Lanjut Atau Mundur Jadi\\xa0Youtuber) 6 respons untuk ‘Tutorial Belajar Visual Basic 6 Dari Dasar Untuk\\xa0Pemula’ Muhammad Rifai berkata: 5 Juli 2018 pukul 10:49 pm Setelah melihat video tutorial visual basic ini, saya tertarik belajar lebih jauh untuk menunjang kinerja instansi dalam membuat laporan. Selama ini masih menggunakan ms excel, di mana data terpisah padahal saling terkait. Bila ada group atau kontak bisa tolong tambahkan 08165444467 sebagai anggota. SukaSuka Balas yadishare berkata: 5 Juli 2018 pukul 11:33 pm Benar sekali gan, dari beberapa instansi pemerintah yg pernah saya bantu dalam hal pembuatan aplikasi desktop maupun web, saya lihat penggunaan excelnya msh sangat kental sekali. Memang tidak ada yg salah dgn excel tsb namun dlm hal penunjang kinerja sehari-hari rasanya kurang efisien dan efektif ketika harus berbagi data antar lini yg berbeda dan seringkali proses input data dilakukan berulang-ulang dan tdk real time. Termasuk dlm hal pembuatan laporan 🙂 makasih sudah mampir…silahkan cari saja group2 pemrograman dari G+ banyak kok gan… SukaSuka Balas isnan berkata: 12 Januari 2019 pukul 4:02 pm Saya tertarik dengan tutorialnya, tapi saya sudah terlanjut belajar dari Nol program Access 2007, sekarang sudah jadi tapi sepertinya pengen saya pengen ganti dengan fb6. apakah bisa ? SukaSuka Balas yadishare berkata: 14 Januari 2019 pukul 1:46 pm Bisa aja mas kenapa tidak…selama ada kemauan pasti ada jalan kok… SukaSuka Balas ujek berkata: 9 Mei 2019 pukul 10:19 am kalau misalnya mengkoneksikan 1 tabel ke tabel lain di ms access, kemudian masing2 dibikinkan form berbeda di visual basic gimana caranya bang? makasi SukaSuka Balas Samuel Mcneal berkata: 18 Oktober 2019 pukul 12:23 am Hello bud, I am here to help you to give you WordPress Plugins, Themes and Woocommerce Extensions and Theme at just $4.99. Buy one time and use it on as many sites as you want Site: https://woorider.com Email: woorider.com@gmail.com Regards, WOORider Team SukaSuka Balas Tinggalkan Balasan Batalkan balasan Ketikkan komentar di sini... Isikan data di bawah atau klik salah satu ikon untuk log in: Email (wajib) (Alamat takkan pernah dipublikasikan) Nama (wajib) Situs Web You are commenting using your WordPress.com account. (\\xa0Logout\\xa0/ Ubah\\xa0) You are commenting using your Google account. (\\xa0Logout\\xa0/ Ubah\\xa0) You are commenting using your Twitter account. (\\xa0Logout\\xa0/ Ubah\\xa0) You are commenting using your Facebook account. (\\xa0Logout\\xa0/ Ubah\\xa0) Batal Connecting to %s Beri tahu saya komentar baru melalui email. Beritahu saya pos-pos baru lewat surat elektronik. Cari untuk: Kategori Adobe Premiere Pro (1) android (3) Animasi (1) Backsound (2) chart.js (5) Codeigniter (4) CPanel (1) Crystal Report (2) Database (9) Delphi XE5 (19) easyui (2) Facebook (1) fpdf (1) HTML & CSS (10) Intro Video (8) Jasa IT (2) JQuery (1) Linux (1) Odoo/OpenERP (13) paint (2) Photoshop (6) Php (19) Prestashop (1) Thunderbird (3) Tips (36) vb6 (12) Video (16) Visual Basic (18) Web Server (9) Whatsapp (2) Wordpress (7) Youtube (22) Posting Terbaru Cara Menampilkan Layar HP Android Ke PC Atau\\xa0Laptop 19 Oktober 2020 Crop Video Menggunakan Adobe Premiere\\xa0Pro 9 Oktober 2020 Cara Membuat Opening Video Dan Closing Video Dengan Mudah Dan Cepat Menggunakan\\xa0Animaker 31 Agustus 2020 Cara Membuat Report Menggunakan FPDF, PHP Dan\\xa0MySQL 30 Juni 2020 Aplikasi PHP CRUD Sederhana Menggunakan Framework Easyui Dan\\xa0MySQLi 28 Juni 2020 Follow my blog by email Masukkan alamat email Anda untuk mengikuti blog ini dan menerima pemberitahuan tentang posting terbaru melalui email. Bergabunglah dengan 15 pengikut lainnya Alamat Email: Follow Top Posts & Halaman 7 Lagu Backsound Para Youtuber Yang Sering Di Pakai 2019 Cara Seleksi Foto Atau Gambar Dengan Cepat Di Photoshop Apa Sih Perbedaan Intro Dan Outro Video Beserta Fungsinya Di Youtube ? Cara Mengatasi Masalah Button File Upload Yang Hilang Pada Aplikasi E-SKA (Surat Keterangan Asal Indonesia) Cara Mengedit Gambar Dengan Aplikasi Paint Contoh Penggunaan Looping Pada Visual Basic 6 Tutorial Belajar Visual Basic 6 Dari Dasar Untuk Pemula Cara Membuat Program Deret Angka Segitiga Dengan Visual Basic 6 Kapan Kita Bisa Gajian dari youtube atau google adsense ? Belajar VB Untuk Pemula (Koneksi Database Access Ke VB6) Komentar Terbaru yadishare pada Cara Mengatasi Port Webserver…Andika Pratama pada Cara Mengatasi Port Webserver…yadishare pada Cara Membuat Grafik Lingkaran…Hernila pada Cara Membuat Grafik Lingkaran…yadishare pada Mengirim Email dengan Delphi X… Statistik Blog 598.535 hits Arsip Oktober 2020 Agustus 2020 Juni 2020 Oktober 2019 September 2019 Agustus 2019 Juli 2019 Mei 2019 April 2019 Maret 2019 Februari 2019 Januari 2019 Desember 2018 November 2018 Oktober 2018 September 2018 Juli 2018 Juni 2018 Maret 2018 Februari 2018 Januari 2018 November 2017 Oktober 2017 September 2017 Agustus 2017 Juli 2017 Oktober 2016 September 2016 Agustus 2016 Belajar Android Studio Part 1 https://youtu.be/gh7gih2mYJIBelajar Android Studio Part 2https://www.youtube.com/watch?v=NFEzpRrg9pEBelajar Android Studio Part 3https://www.youtube.com/watch?v=5H8u7EupNb4Belajar Android Studio Part 4https://www.youtube.com/watch?v=bV9ad-l5LCMAnimasi Tombol Subscribe,Bell Notification,Like,Share Video Youtubehttps://youtu.be/oR732tVNulIHow To Make Intro And Outro Video Fast With Animakerhttps://youtu.be/UwsjmXxmPnMYonex Astrox 38Shttps://www.youtube.com/watch?v=hm6BuCtnkO4Chord Gitar Tak Ada Yang Bisa – Andra And The Backbonehttps://www.youtube.com/watch?v=pFIQKME-qeMUnboxing Gitar Cort AD810 OPhttps://youtu.be/2PDRA__XU7Ivideo animasi singkat yang saya buat menggunakan animakerhttps://youtu.be/oRlPLJWCAAcBelajar Blender Yukhttps://www.youtube.com/watch?v=qLVfL1LE1tYCara membuat video animasi menggunakan animakerhttps://youtu.be/hx8n2sqvC3kDelphi XE & Fastreporthttps://www.youtube.com/watch?v=2yAy-o7uqj8Cara Design Thumbnail Youtubehttps://www.youtube.com/watch?v=HqspQ7UeigwCara Membuat Intro Videohttps://www.youtube.com/watch?v=bI6NYFG36uECara Membuat Grafik Di Excelhttps://www.youtube.com/watch?v=Ary1zoKPWLkCara Membuat Grafik Di Librehttps://www.youtube.com/watch?v=da56Hf8XhR0Cara Memutar/Merubah Bentuk Gambar Di Photoshophttps://www.youtube.com/watch?v=uPm7lqA42fMBelajar JQuery Kalkulasi Input Otomatishttps://www.youtube.com/watch?v=zOvwcNyuGq4Menambah Efek Mirror Di Photoshophttps://www.youtube.com/watch?v=jyuFSfC_h_kCara Mengganti Channel Art Youtubehttps://www.youtube.com/watch?v=bH3zBnzFLI4Pertandingan Liverpool VS Watfordhttps://www.youtube.com/watch?v=MkiNlamg9ToTambah Viewer Dengan Cara Embed Videohttps://www.youtube.com/watch?v=BQkm_piLATYCara Memperkecil Gambarhttps://www.youtube.com/watch?v=jUzR-EiLrJMCara Blogger Professional Posting Artikelhttps://www.youtube.com/watch?v=enoQ5SNUyAcBelajar CI 3https://www.youtube.com/watch?v=7ZsQtBWlq5oCara Promosi Video Youtube Selain Sosmedhttps://www.youtube.com/watch?v=OtM_g0vPOcwCara Edit Video Youtubehttps://www.youtube.com/watch?v=Ga8dnpvlV-sCara Mengatasi Error Adobe Premiere Prohttps://www.youtube.com/watch?v=AxOiXmpEzIoFollow Me On Youtube Blog di WordPress.com. Tambahkan pemikiran Anda di sini... (opsional) Tuliskan ke Batal Privasi & Cookie: Situs ini menggunakan cookie. Dengan melanjutkan menggunakan situs web ini, Anda setuju dengan penggunaan mereka. Untuk mengetahui lebih lanjut, termasuk cara mengontrol cookie, lihat di sini: Kebijakan Cookie %d blogger menyukai ini:'"
            ]
          },
          "metadata": {
            "tags": []
          },
          "execution_count": 16
        }
      ]
    },
    {
      "cell_type": "code",
      "metadata": {
        "colab": {
          "base_uri": "https://localhost:8080/",
          "height": 137
        },
        "id": "3T7ImGM1ppjt",
        "outputId": "cd079e17-a374-47b4-a74c-22ae5878191f"
      },
      "source": [
        "data [1]"
      ],
      "execution_count": null,
      "outputs": [
        {
          "output_type": "execute_result",
          "data": {
            "application/vnd.google.colaboratory.intrinsic+json": {
              "type": "string"
            },
            "text/plain": [
              "'Python Tutorial w3schools.com LOG IN THE WORLD\\'S LARGEST WEB DEVELOPER SITE HTML CSS JAVASCRIPT SQL PYTHON PHP BOOTSTRAP HOW TO W3.CSS JQUERY JAVA MORE \\ue802 \\ue801 \\ue80b SHOP CERTIFICATES REFERENCES EXERCISES × HTML and CSS Learn HTML Learn CSS Learn Bootstrap Learn W3.CSS Learn Colors Learn Icons Learn Graphics Learn SVG Learn Canvas Learn How To Learn Sass XML Learn XML Learn XML AJAX Learn XML DOM Learn XML DTD Learn XML Schema Learn XSLT Learn XPath Learn XQuery JavaScript Learn JavaScript Learn jQuery Learn React Learn AngularJS Learn JSON Learn AJAX Learn AppML Learn W3.JS Programming Learn Python Learn Java Learn C++ Learn C# Learn R Learn Machine Learning Learn Data Science Learn Pandas Server Side Learn SQL Learn PHP Learn ASP Learn Node.js Learn Raspberry Pi Web Building Web Templates Web Statistics Web Certificates Web Editor Web Development Test Your Typing Speed XML Learn XML Learn XML AJAX Learn XML DOM Learn XML DTD Learn XML Schema Learn XSLT Learn XPath Learn XQuery × HTML HTML Tag Reference HTML Browser Support HTML Event Reference HTML Color Reference HTML Attribute Reference HTML Canvas Reference HTML SVG Reference HTML Character Sets Google Maps Reference CSS CSS Reference CSS Browser Support CSS Selector Reference Bootstrap 3 Reference Bootstrap 4 Reference W3.CSS Reference Icon Reference Sass Reference JavaScript JavaScript Reference HTML DOM Reference jQuery Reference AngularJS Reference AppML Reference W3.JS Reference Programming Python Reference Java Reference Server Side SQL Reference PHP Reference ASP Reference XML XML Reference XML Http Reference XSLT Reference XML Schema Reference Character Sets HTML Character Sets HTML ASCII HTML ANSI HTML Windows-1252 HTML ISO-8859-1 HTML Symbols HTML UTF-8 × Exercises HTML Exercises CSS Exercises JavaScript Exercises SQL Exercises PHP Exercises Python Exercises jQuery Exercises Bootstrap Exercises Java Exercises C++ Exercises C# Exercises Quizzes HTML Quiz CSS Quiz JavaScript Quiz SQL Quiz PHP Quiz Python Quiz jQuery Quiz Bootstrap Quiz Java Quiz C++ Quiz C# Quiz XML Quiz Certificates HTML Certificate CSS Certificate JavaScript Certificate SQL Certificate PHP Certificate Python Certificate jQuery Certificate Bootstrap Certificate XML Certificate × LOG IN Why Log In? Username Password LOG IN New User? Sign Up For Free! Forgot password? Python Tutorial Python HOME Python Intro Python Get Started Python Syntax Python Comments Python Variables Python Variables Variable Names Assign Multiple Values Output Variables Global Variables Variable Exercises Python Data Types Python Numbers Python Casting Python Strings Python Strings Slicing Strings Modify Strings Concatenate Strings Format Strings Escape Characters String Methods String Exercises Python Booleans Python Operators Python Lists Python Lists Access List Items Change List Items Add List Items Remove List Items Loop Lists List Comprehension Sort Lists Copy Lists Join Lists List Methods List Exercises Python Tuples Python Tuples Access Tuples Update Tuples Unpack Tuples Loop Tuples Join Tuples Tuple Methods Tuple Exercises Python Sets Python Sets Access Set Items Add Set Items Remove Set Items Loop Sets Join Sets Set Methods Set Exercises Python Dictionaries Python Dictionaries Access Items Change Items Add Items Remove Items Loop Dictionaries Copy Dictionaries Nested Dictionaries Dictionary Methods Dictionary Exercise Python If...Else Python While Loops Python For Loops Python Functions Python Lambda Python Arrays Python Classes/Objects Python Inheritance Python Iterators Python Scope Python Modules Python Dates Python Math Python JSON Python RegEx Python PIP Python Try...Except Python User Input Python String Formatting File Handling Python File Handling Python Read Files Python Write/Create Files Python Delete Files Python NumPy NumPy Intro NumPy Getting Started NumPy Creating Arrays NumPy Array Indexing NumPy Array Slicing NumPy Data Types NumPy Copy vs View NumPy Array Shape NumPy Array Reshape NumPy Array Iterating NumPy Array Join NumPy Array Split NumPy Array Search NumPy Array Sort NumPy Array Filter NumPy Random Random Intro Data Distribution Random Permutation Seaborn Module Normal Distribution Binomial Distribution Poisson Distribution Uniform Distribution Logistic Distribution Multinomial Distribution Exponential Distribution Chi Square Distribution Rayleigh Distribution Pareto Distribution Zipf Distribution NumPy ufunc ufunc Intro ufunc Create Function ufunc Simple Arithmetic ufunc Rounding Decimals ufunc Logs ufunc Summations ufunc Products ufunc Differences ufunc Finding LCM ufunc Finding GCD ufunc Trigonometric ufunc Hyperbolic ufunc Set Operations Python Pandas Pandas Tutorial Pandas Getting Started Pandas Series Pandas DataFrames Pandas Read CSV Pandas Read JSON Pandas Analyzing Data Pandas Cleaning Data Pandas Cleaning Data Cleaning Empty Cells Cleaning Wrong Format Cleaning Wrong Data Removing Duplicates Pandas Correlations Pandas Plotting Python Matplotlib Matplotlib Intro Matplotlib Get Started Matplotlib Pyplot Matplotlib Plotting Matplotlib Markers Matplotlib Line Matplotlib Subplots Matplotlib Scatter Matplotlib Bars Matplotlib Histograms Matplotlib Pie Charts Python SciPy SciPy Intro SciPy Getting Started SciPy Constants SciPy Optimizers SciPy Sparse Data SciPy Graphs SciPy Spatial Data SciPy Matlab Arrays SciPy Interpolation SciPy Significance Tests Machine Learning Getting Started Mean Median Mode Standard Deviation Percentile Data Distribution Normal Data Distribution Scatter Plot Linear Regression Polynomial Regression Multiple Regression Scale Train/Test Decision Tree Python MySQL MySQL Get Started MySQL Create Database MySQL Create Table MySQL Insert MySQL Select MySQL Where MySQL Order By MySQL Delete MySQL Drop Table MySQL Update MySQL Limit MySQL Join Python MongoDB MongoDB Get Started MongoDB Create Database MongoDB Create Collection MongoDB Insert MongoDB Find MongoDB Query MongoDB Sort MongoDB Delete MongoDB Drop Collection MongoDB Update MongoDB Limit Python Reference Python Overview Python Built-in Functions Python String Methods Python List Methods Python Dictionary Methods Python Tuple Methods Python Set Methods Python File Methods Python Keywords Python Exceptions Python Glossary Module Reference Random Module Requests Module Statistics Module Math Module cMath Module Python How To Remove List Duplicates Reverse a String Add Two Numbers Python Examples Python Examples Python Compiler Python Exercises Python Quiz Python Certificate Python Tutorial ❮ Home Next ❯ Python is a programming language. Python can be used on a server to create web applications. Start learning Python now » Learning by Examples With our \"Try it Yourself\" editor, you can edit Python code and view the result. Example print(\"Hello, World!\") Try it Yourself » Click on the \"Try it Yourself\" button to see how it works. Python File Handling In our File Handling section you will learn how to open, read, write, and delete files. Python File Handling Python Database Handling In our database section you will learn how to access and work with MySQL and MongoDB databases: Python MySQL Tutorial Python MongoDB Tutorial Python Exercises Test Yourself With Exercises Exercise: Insert the missing part of the code below to output \"Hello World\". (\"Hello World\") Submit Answer » Start the Exercise Python Examples Learn by examples! This tutorial supplements all explanations with clarifying examples. See All Python Examples Python Quiz Test your Python skills with a quiz. Python Quiz Python Reference You will also find complete function and method references: Reference Overview Built-in Functions String Methods List/Array Methods Dictionary Methods Tuple Methods Set Methods File Methods Python Keywords Python Exceptions Python Glossary Random Module Requests Module Math Module CMath Module Download Python Download Python from the official Python web site: https://python.org Python Exam - Get Your Diploma! W3Schools\\' Online Certification The perfect solution for professionals who need to balance work, family, and career building. More than 25 000 certificates already issued! Get Your Certificate » The HTML Certificate documents your knowledge of HTML. The CSS Certificate documents your knowledge of advanced CSS. The JavaScript Certificate documents your knowledge of JavaScript and HTML DOM. The Python Certificate documents your knowledge of Python. The jQuery Certificate documents your knowledge of jQuery. The SQL Certificate documents your knowledge of SQL. The PHP Certificate documents your knowledge of PHP and MySQL. The Java Certificate documents your knowledge of Java. The XML Certificate documents your knowledge of XML, XML DOM and XSLT. The Bootstrap Certificate documents your knowledge of the Bootstrap framework. ❮ Home Next ❯ COLOR PICKER LIKE US Get YourCertification Today! View Options HOW TO Tabs Dropdowns Accordions Side Navigation Top Navigation Modal Boxes Progress Bars Parallax Login Form HTML Includes Google Maps Range Sliders Tooltips Slideshow Filter List Sort List Certificates HTML CSS JavaScript Python SQL PHP And more REPORT ERROR FORUM ABOUT SHOP × Report Error If you want to report an error, or if you want to make a suggestion, do not hesitate to send us an e-mail: help@w3schools.com × Thank You For Helping Us! Your message has been sent to W3Schools. Top Tutorials HTML Tutorial CSS Tutorial JavaScript Tutorial How To Tutorial SQL Tutorial Python Tutorial W3.CSS Tutorial Bootstrap Tutorial PHP Tutorial Java Tutorial C++ Tutorial jQuery Tutorial Top References HTML Reference CSS Reference JavaScript Reference SQL Reference Python Reference W3.CSS Reference Bootstrap Reference PHP Reference HTML Colors Java Reference Angular Reference jQuery Reference Top Examples HTML Examples CSS Examples JavaScript Examples How To Examples SQL Examples Python Examples W3.CSS Examples Bootstrap Examples PHP Examples Java Examples XML Examples jQuery Examples Web Certificates HTML Certificate CSS Certificate JavaScript Certificate SQL Certificate Python Certificate PHP Certificate Bootstrap Certificate XML Certificate jQuery Certificate Get Certified » W3Schools is optimized for learning and training. Examples might be simplified to improve reading and learning. Tutorials, references, and examples are constantly reviewed to avoid errors, but we cannot warrant full correctness of all content. While using W3Schools, you agree to have read and accepted our terms of use, cookie and privacy policy. Copyright 1999-2021 by Refsnes Data. All Rights Reserved. W3Schools is Powered by W3.CSS.'"
            ]
          },
          "metadata": {
            "tags": []
          },
          "execution_count": 17
        }
      ]
    },
    {
      "cell_type": "code",
      "metadata": {
        "colab": {
          "base_uri": "https://localhost:8080/",
          "height": 1000
        },
        "id": "WuSzE0LoqUWa",
        "outputId": "0b82d0ed-7a4d-4d38-be1a-0a1698324874"
      },
      "source": [
        "data [0]"
      ],
      "execution_count": null,
      "outputs": [
        {
          "output_type": "execute_result",
          "data": {
            "application/vnd.google.colaboratory.intrinsic+json": {
              "type": "string"
            },
            "text/plain": [
              "\"Python Tutorials for Beginners Home Testing Back Agile Testing BugZilla Cucumber Database Testing ETL Testing Jmeter JIRA Back JUnit LoadRunner Manual Testing Mobile Testing Mantis Postman QTP Back Quality Center (ALM) RPA SAP Testing Selenium SoapUI Test Management TestLink SAP Back ABAP APO Beginner Basis BODS BI BPC CO Back CRM Crystal Reports FICO HANA HR MM QM Payroll Back PI/PO PP SD SAPUI5 Security Solution Manager Successfactors SAP Tutorials Web Back Apache AngularJS ASP.Net C C# C++ CodeIgniter DBMS JavaScript Back Java JSP Kotlin Linux MariaDB MS Access MYSQL Node.js Perl Back PHP PL/SQL PostgreSQL Python ReactJS Ruby & Rails Scala SQL SQLite Back SQL Server UML VB.Net VBScript Web Services WPF Must Learn! Back Accounting Algorithms Android Blockchain Business Analyst Build Website Cloud Computing COBOL Compiler Design Back Embedded Systems Ethical Hacking Excel Tutorials Go Programming IoT ITIL Jenkins MIS Networking Operating System Back Prep PMP Photoshop Project Management Reviews Salesforce SEO Software Engineering VBA Big Data Back AWS BigData Cassandra Cognos Data Warehousing DevOps HBase Back Hive Informatica MicroStrategy MongoDB NiFi OBIEE Pentaho Back Power BI Qlikview Tableau Talend ZooKeeper Live Projects Back Live Agile Testing Live HP ALM Live Java Project Live Mobile Testing Live Payment Gateway Live PHP Project Live Projects Hub Live Python Project Live SEO Project Back Live Selenium Project Live Selenium 2 Live Security Testing Live Testing Project Live Testing 2 Live Telecom Live UFT/QTP Testing AI Back Artificial Intelligence Data Science Keras NLTK Back NumPy PyTorch R Programming TensorFlow Blog Python Tutorials for Beginners Details Last Updated: 15 December 2020 What is Python?Python is an object-oriented programming language created by Guido Rossum in 1989. It is ideally designed for rapid prototyping of complex applications. It has interfaces to many OS system calls and libraries and is extensible to C or C++. Many large companies use the Python programming language include NASA, Google, YouTube, BitTorrent, etc. Python programming is widely used in Artificial Intelligence, Natural Language Generation, Neural Networks and other advanced fields of Computer Science. Python had deep focus on code readability & this class will teach you python from basics. Python Programming Learn Python Programming Basics Tutorial How to Install Python on Windows with Pycharm IDE Tutorial Hello World: Creat your First Python Program Tutorial How to Print in Python with Examples Tutorial Python Variables: Declare, Concatenate, Global & Local Python Data Structure Tutorial Python TUPLE - Pack, Unpack, Compare, Slicing, Delete, Key Tutorial Python Dictionary(Dict): Update, Cmp, Len, Sort, Copy, Items, str Example Tutorial Python Dictionary Append: How to Add Key/Value Pair Tutorial Python Operators: Arithmetic, Logical, Comparison, Assignment, Bitwise & Precedence Tutorial Python Arrays: Create, Append, Pop, Reverse Examples Python Conditional Loops Tutorial Python IF, ELSE, ELIF, Nested IF & Switch Case Statement Tutorial Python For & While Loops: Enumerate, Break, Continue Statement Tutorial Python break, continue, pass statements with Examples Tutorial Python OOPs: Class, Object, Inheritance and Constructor with Example Python Strings Tutorial Python Strings: Replace, Join, Split, Reverse, Uppercase & Lowercase Tutorial Python String strip() with EXAMPLE Tutorial Python String count() with EXAMPLES Tutorial Python String format() with EXAMPLES Tutorial Python string length | len() method Example Tutorial Python String find() Method with Examples Python Functions Tutorial Python Main Function with Examples: Understand __main__ Tutorial Python Functions Examples: Call, Indentation, Arguments & Return Values Tutorial Python Lambda Functions with EXAMPLES Tutorial Python abs() Function: Absolute Value Examples Tutorial Python round() function with EXAMPLES Tutorial Python range() Function: Float, List, For loop Examples Tutorial Python map() function with EXAMPLES Tutorial Python Timeit() with Examples Tutorial Yield in Python Tutorial: Generator & Yield vs Return Example Tutorial Python Queue: FIFO, LIFO Example Tutorial Python Counter in Collections with Example Tutorial Enumerate() in Python with EXAMPLES Tutorial Python time sleep(): Examples to add DELAY to your code Tutorial type() and isinstance() in Python with Examples Tutorial Python Print WITHOUT Newline (Examples) Python File Handling Tutorial Python File Handling: Create, Open, Append, Read, Write Tutorial Python Check If File or Directory Exists Tutorial Python COPY File using shutil.copy(), shutil.copystat() Tutorial Python Rename File and Directory using os.rename() Tutorial Python ZIP file with Example Tutorial Python Exception Handling: Try, Catch, Finally Tutorial Python readline() Method with Examples Python Data Science Tutorial Python SciPy Tutorial: Learn with Example Tutorial Reading and Writing CSV Files in Python using CSV Module & Pandas Tutorial Python JSON: Encode(dump), Decode(load) json Data & File (Example) Tutorial Python with MySQL: Connect, Create Database, Table, Insert [Examples] Tutorial PyUnit Tutorial: Python Unit Testing Framework (with Example) Tutorial Facebook Login using Python: FB Login Example Tutorial Python Matrix: Transpose, Multiplication, NumPy Arrays Examples Differences: Python vs Other Technologies Tutorial Python Vs PHP: What's the Difference? Tutorial Python vs Go: What's the Difference? Tutorial Python vs JavaScript: What's the Difference? Tutorial Python vs Ruby: What's the Difference? Tutorial Python 2 vs Python 3: Key Differences Tutorial Python vs C++: What's the Difference? Tutorial Flask vs Django: Must Know Differences Tutorial Python vs JAVA vs PHP vs PERL vs Ruby vs JavaScript vs C++ vs TCL Python List Tutorial Python List: Comprehension, Apend, Sort, Length, Reverse EXAMPLES Tutorial Find AVERAGE of a List in Python with Example Tutorial Python List count() with EXAMPLES Tutorial Python remove Duplicates from a List Tutorial Remove element from a Python LIST [clear, pop, remove, del] Tutorial Python List index() with Example Must Know Stuff! Tutorial Python Regex Tutorial: re.match(),re.search(), re.findall(), re.split() Tutorial Python DateTime, TimeDelta, Strftime(Format) with Examples Tutorial Python CALENDAR Tutorial with Example Tutorial PyTest Tutorial: What is, Install, Fixture, Assertions Tutorial Django Tutorials for Beginners Tutorial Python Internet Access using Urllib.Request and urlopen() Tutorial Python XML Parser Tutorial: Read xml file example(Minidom, ElementTree) Tutorial PyQt Tutorial: Python GUI Designer Tutorial Multithreading in Python with Global Interpreter Lock (GIL) Example Tutorial Import module in Python with Examples Python Tools Tutorial 16 Best Web Scraping Tools for Data Extraction Tutorial BEST Python IDEs Tutorial BEST Python Certification Exam Tutorial 11 Best Python Programming Books for Beginner Check Python Tutorial for Beginners PDF Tutorial 20 Best Online Python Courses Tutorial Top 40 Python Interview Questions & Answers Python Programming Characteristics It provides rich data types and easier to read syntax than any other programming languages It is a platform independent scripted language with full access to operating system API's Compared to other programming languages, it allows more run-time flexibility It includes the basic text manipulation facilities of Perl and Awk A module in Python may have one or more classes and free functions Libraries in Pythons are cross-platform compatible with Linux, Macintosh, and Windows For building large applications, Python can be compiled to byte-code Python supports functional and structured programming as well as OOP It supports interactive mode that allows interacting Testing and debugging of snippets of code In Python, since there is no compilation step, editing, debugging and testing is fast. Python is commonly used by programmers to: Program video games Build Artificial Intelligence algorithms Program various scientific programs such as statistical models In these Python tutorials, we will cover Python 2 and Python 3 Examples. Next Introduction to PythonHow to Install PythonPython TuplePython DictionaryPython First ProgramPython Dictionary AppendHow to Print in PythonPython OperatorsIf StatementPython ArraysPython LoopsPython break, continue, passVariables in PythonPython Class & ObjectsLearning Python StringsPython Vs RubyPython String strip()Python 2 Vs Python 3Python Vs C++Flask Vs DjangoPython vs RUBY vs PHP vs TCL vs PERL vs JAVAPython String count()Python String format()Python List ComprehensionFind AVERAGE ListPython string lengthPython List count()Python String find()Learn Python Main FunctionRemove Duplicates ListRemove element from a Python LISTFunctions in PythonPython Lambda FunctionsPython List index()Python Regular ExpressionsPython abs()Date, time and datetimePython round()Python range()Calendar in PythonPython map() functionPyTest TutorialDjango TutorialPython Timeit()Yield in PythonAccessing Internet DataPython QueueMultithreading in PythonCounter in CollectionsPython ZIP file with ExampleManipulating XML with PythonPyQt TutorialPython Interview Q & AEnumerate() in PythonPython time sleep()Python Exception HandlingPython readline()Import modulePython SciPytype() and isinstance()Python CSVBest Web Scraping ToolsPython JSONPrint WITHOUT NewlineBEST Python IDEsPython with MySQLPython Certification ExamPython Unit TestingReading and Writing FilesFB Login using PythonIf File or Directory ExistsPython MatrixPython Vs PHPPython BooksPython COPY FilePython Vs GoPython Vs JavaScriptPython Tutorial PDFPython Rename FileBest Python Courses Python Tutorials Top Tutorials About About Us Advertise with Us Write For Us Contact UsCareer Suggestion SAP Career Suggestion Tool Software Testing as a Career Selenium Testing HackingInteresting eBook Blog Quiz SAP eBook SAP Java PythonExecute online Execute Java Online Execute Javascript Execute HTML Execute Python Jmeter Informatica JIRA © Copyright - Guru99 2021 Privacy Policy\\xa0\\xa0|\\xa0\\xa0Affiliate Disclaimer\\xa0\\xa0|\\xa0\\xa0ToS\""
            ]
          },
          "metadata": {
            "tags": []
          },
          "execution_count": 18
        }
      ]
    },
    {
      "cell_type": "code",
      "metadata": {
        "colab": {
          "base_uri": "https://localhost:8080/",
          "height": 137
        },
        "id": "DjDQXgB0qb1P",
        "outputId": "7957ad8a-c927-475c-f48b-4901cfe35d40"
      },
      "source": [
        "data [2]"
      ],
      "execution_count": null,
      "outputs": [
        {
          "output_type": "execute_result",
          "data": {
            "application/vnd.google.colaboratory.intrinsic+json": {
              "type": "string"
            },
            "text/plain": [
              "'Tutorial python - Jagocoding.com Toggle navigation Tutorials Articles Snippets Search Sign Up / Register Sign In Login FB Tutorials Articles Snippets Search Create Account Sign In Login with Facebook #python Tag #python All Tutorial Artikel Snippet on 25/7/15 Ex Machina - Bluebook Code View Source 0 1 Author: {ಠ_ಠ} on 7/7/15 Program Kalkulator Sederhana dengan Python (Desktop Application) Python adalah bahasa pemrograman multi platform dimana bahasa ini dapat digunakan untuk aplikasi Web, Desktop, dll. Kali ini saya akan memberikan tutorial pemrograman python yang berbasis desktop. Dan saya akan membuat program kalkulator sederhana. Kali ini saya menggunakan module Tkinter yang berfungsi untuk membuat Graphical User Interface aplikasi python. 0 1 Level: Newbie Est. time: 30 min on 15/9/12 PROTECTING WEBSITES FROM COMMON ATTACKS Selamat datang kembali di\\xa0YudhaAkbar.co.cc\\xa0guys. Hm, kali ini aku mau bahas tentang masalah-masalah serangan pada web yang sering digunakan berserta cara pencegahanya. Ya biasanya serangan serangan tersebut menggunakan sebagian besar jenis defacement. Sebagian besar kesalahan terjadi pada pemrograman yang memungkinkan attacker untuk dapat menyusup ke dalam website. Aku juga ak... 6 1 Level: Standard Est. time: 40 min on 4/9/12 PISHING DENGAN TEKNIK DNS SPOFFING Kali aku bahas cara untuk sniffing via LAN ataupun Wifi, teknik lama namun masih cukup ampuh untuk mengelabui client-client yang ada satu jaringan dengan kita. tehnik ini membutuhkan apache server, php, ettercap, script pishing. Hm, oiya tutorial ini uda sukses di tes pada Ubuntu 10.4. Ayo langsung saja ke pembahasan dari pada bertele-tele dalam introductionya. hehe.. Tutoria... 4 1 Level: Standard Est. time: 120 min « Terbaru Terlama » #php 103 #css 47 #jquery 43 #javascript 46 #css3 35 #bootstrap 31 #html 26 #Java 29 #tutorial-cheyuz 24 #c 22 #mysql 29 #Android 26 #codeigniter 22 #SPK 28 #html5 16 #C++ 17 #ajax 14 #Sendy PK 25 #root 12 #dhistutor 13 #form 11 #responsive 10 #JS 14 #animasi 11 #Wordpress 11 #framework 13 #database 18 #image 9 #tutorial c# 8 #tips 7 Lihat Semua Tag Jagocoding.com adalah situs tutorial pemrograman no 1 di Indonesia yang berbasis jejaring sosial (social network). Bagikan tulisanmu ke semua penjuru dunia. Pelajari semua tutorial di sini untuk menjadi seorang yang \"jago coding\". Copyright © 2014 Jagocoding.com Home | Advices | Become a Member | Terms and Conditions | FAQ'"
            ]
          },
          "metadata": {
            "tags": []
          },
          "execution_count": 19
        }
      ]
    },
    {
      "cell_type": "code",
      "metadata": {
        "colab": {
          "base_uri": "https://localhost:8080/",
          "height": 562
        },
        "id": "OgAI71-lqfGu",
        "outputId": "be363165-9e21-4bf9-cb18-fe48f774998a"
      },
      "source": [
        "data [5]"
      ],
      "execution_count": null,
      "outputs": [
        {
          "output_type": "execute_result",
          "data": {
            "application/vnd.google.colaboratory.intrinsic+json": {
              "type": "string"
            },
            "text/plain": [
              "\"Belajar HTML Dan CSS Lengkap Untuk Pemula +6281395777706 Kelas Premium Kelas Beasiswa Produk Digital Halaman Member Login Register Article Belajar HTML Dan CSS Belajar Javascript Belajar PHP Dan MySQL Belajar Framework Codeigniter Belajar Framework Laravel Resi Pengiriman Blog Belajarphp.net - Belajar Web Programming Gratis > Blog > Tutorial HTML & CSS > Belajar HTML Dan CSS Lengkap Untuk Pemula Belajar HTML Dan CSS Lengkap Untuk Pemula August 22, 2017 Posted by: Nuris Akbar SST, M.Kom Category: Tutorial HTML & CSS No Comments HTML Atau Hypertext Markup Language adalah sebuah bahasa markup yang digunakan untuk membuat sebuah halaman web, menampilkan berbagai informasi di dalam sebuah penjelajah web Internet dan pemformatan hiperteks sederhana yang ditulis dalam berkas format ASCII agar dapat menghasilkan tampilan wujud yang terintegerasi. Sedangkan\\xa0CSS atau Cascading Style Sheet adalah salah satu kode pemrograman yang bertujuan untuk menghias dan mengatur gaya tampilan/layout halaman web supaya lebih elegan dan menarik. karna antara HTML Dan CSS sangat penting dan tidak bisa dipisahkan, maka belajar tentang HTML Dan CSS adalah sebuah tahapan penting yang harus dikuasi oleh junior web developer, dalam artikel ini anda akan belajar fudamental untuk menguasai HTML Dan CSS. Belajar HTML Lengkap Untuk Pemula Berikut ini adalah daftar isi untuk menguasai HTML Untuk Pemula : Membuat Dokument HTML Dengan Text Editor Mengenal HTML Dan Struktur Dasar HTML Mengenal Element Dan Atribute Atribute HTML Mengenal Element Heading Dan Paragraf HTML Mengenal Element Untuk Membuat List Dengan HTML Membuat Tabel Dengan Element HTML Table Membuat Form Dengan HTML Di Update Nanti …. Belajar CSS Lengkap Untuk Pemula Berikut ini adalah daftar isi untuk menguasai CSS untuk pemula : Mengenal Jenis Jenis Selektor Mengenal Berbagai Cara Menggunakan CSS Di Updaate Nanti Tentu masih banyak materi yang harus anda pelajari diluar yang sudah saya bahas di atas, selai menguasai dasar penggunaan HTML Dan CSS anda juga harus menimplementasikan kemampuan anda dalam bentuk membuat sebuah layout sebuah halaman web yang menarik dengan menggabungkan keduanya. Nuris Akbar SST, M.Kom Senior Backend Web Developer Dengan Pengalaman Lebih Dari 8 Tahun, Sekarang Menjadi CTO Di Startup Globalvillage, Founder Academy Diigtal Dan Instruktur Training Di PT Brainamtics Cipta Informatika. See author's posts Baca Artikel Terkain Menarik Lain:Membuat Dokument HTML Dengan Text EditorMengenal Heading, Paragraf Dan Style Pada HTMLTutorial Validasi Form Menggunakan HTML Dan Javascript Share: Author:nuris Senior Backend Web Developer Dengan Pengalaman Lebih Dari 8 Tahun, Sekarang Menjadi CTO Di Startup Globalvillage, Founder Academy Diigtal Dan Instruktur Training Di PT Brainamtics Cipta Informatika. Pencarian Artikel Search for: Akses Materi Di Google DriveFullstack Web Developer Download My CV And PortofolioKategori Artikel Ebook Gratis (9) PHP (1) Technology (1) Tips Dan Trik (19) Tutorial Ajax Jquery (5) Tutorial Codeigniter (27) Tutorial Database (1) Tutorial GIT (1) Tutorial HTML & CSS (4) Tutorial Laravel (16) Tutorial MySQL (2) Tutorial Node JS (2) Tutorial PHP MongoDB (1) Tutorial PHP MYSQL (19) Tutorial PostgreSQL (1) Tutorial SMS Gateway (6) Tutorial Wordpress (2) Uncategorized (1) Video Tutorial Gratis (2) Web Security (4) Popular Courses Membangun Aplikasi Cek Ongkir Deng... Rp150,000 By Nuris Akbar SST, M.Kom Membangun Aplikasi Dengan Laravel ... Rp45,000 By Nuris Akbar SST, M.Kom Membangun REST API Dengan Lumen ... Rp190,000 By Nuris Akbar SST, M.Kom Membangun Aplikasi Payrool Dengan ... Rp195,000 By Nuris Akbar SST, M.Kom Ebook Membangun Website SEO Friend... Rp120,000 By Nuris Akbar SST, M.Kom Membangun Website Sekolah Professi... Rp120,000 By Nuris Akbar SST, M.Kom Proyek Membuat Aplikasi Mobile Pem... Rp350,000 By Nuris Akbar SST, M.Kom Dapatkan Credit $100 Nuris Akbar SST, M.Kom Senior Backend Web Developer Dengan Pengalaman Lebih Dari 8 Tahun, Sekarang Menjadi CTO Di Startup Globalvillage, Founder Academy Diigtal Dan Instruktur Training Di PT Brainamtics Cipta Informatika. See author's posts Baca Artikel Terkain Menarik Lain:Mengenal Heading, Paragraf Dan Style Pada HTMLTutorial Validasi Form Menggunakan HTML Dan JavascriptMembuat Dokument HTML Dengan Text Editor Tentang Kami Academy Digital Adalah Platform Pembelajaran Secara Online Bersertifikat Dengan Kurikulum Sesuai Dengan Kebutuhan Dunia Industri 4.0. Kami Juga Bekerja Sama Dengan lembaga Training Dan Lembaga Sertifikasi Profesi Untuk Menyelenggarakan training Dan Sertifikasi Halaman PentingCara Melakukan Pendaftaran Cara Mengikuti Kelas Online Pembelian Dan Konfirmasi Pembayaran Keranjang Belanja Download Materi Pembelajaran Halaman Member Academy Halaman Pendaftaran Member Link Marketplace Copyright © 2020 Academy Diigtal home courses blog events gallery Search × Ada Yang Bisa Kami Bantu ?\""
            ]
          },
          "metadata": {
            "tags": []
          },
          "execution_count": 21
        }
      ]
    },
    {
      "cell_type": "code",
      "metadata": {
        "colab": {
          "base_uri": "https://localhost:8080/"
        },
        "id": "Sush8Jpx6Zjc",
        "outputId": "9c994b2e-a46b-44c9-ef9c-f7d4c2f81c5d"
      },
      "source": [
        "halaman[1]"
      ],
      "execution_count": null,
      "outputs": [
        {
          "output_type": "execute_result",
          "data": {
            "text/plain": [
              "[<a class=\"w3schools-logo notranslate\" href=\"//www.w3schools.com\">w3schools<span class=\"dotcom\">.com</span></a>,\n",
              " <a class=\"topnav-icons fa fa-menu w3-hide-large w3-left w3-bar-item w3-button\" href=\"javascript:void(0);\" onclick=\"open_menu()\" title=\"Menu\"></a>,\n",
              " <a class=\"topnav-icons fa fa-home w3-left w3-bar-item w3-button\" href=\"/default.asp\" title=\"Home\"></a>,\n",
              " <a class=\"w3-bar-item w3-button\" href=\"/html/default.asp\" title=\"HTML Tutorial\">HTML</a>,\n",
              " <a class=\"w3-bar-item w3-button\" href=\"/css/default.asp\" title=\"CSS Tutorial\">CSS</a>,\n",
              " <a class=\"w3-bar-item w3-button\" href=\"/js/default.asp\" title=\"JavaScript Tutorial\">JAVASCRIPT</a>,\n",
              " <a class=\"w3-bar-item w3-button\" href=\"/sql/default.asp\" title=\"SQL Tutorial\">SQL</a>,\n",
              " <a class=\"w3-bar-item w3-button\" href=\"/python/default.asp\" title=\"Python Tutorial\">PYTHON</a>,\n",
              " <a class=\"w3-bar-item w3-button\" href=\"/php/default.asp\" title=\"PHP Tutorial\">PHP</a>,\n",
              " <a class=\"w3-bar-item w3-button\" href=\"/bootstrap/bootstrap_ver.asp\" title=\"Bootstrap Tutorial\">BOOTSTRAP</a>,\n",
              " <a class=\"w3-bar-item w3-button\" href=\"/howto/default.asp\" title=\"How To\">HOW TO</a>,\n",
              " <a class=\"w3-bar-item w3-button\" href=\"/w3css/default.asp\" title=\"W3.CSS Tutorial\">W3.CSS</a>,\n",
              " <a class=\"w3-bar-item w3-button\" href=\"/jquery/default.asp\" title=\"jQuery Tutorial\">JQUERY</a>,\n",
              " <a class=\"w3-bar-item w3-button\" href=\"/java/default.asp\" title=\"Java Tutorial\">JAVA</a>,\n",
              " <a class=\"w3-bar-item w3-button\" href=\"javascript:void(0);\" id=\"topnavbtn_tutorials\" onclick='w3_open_nav(\"tutorials\")' title=\"Tutorials\">MORE <i class=\"fa fa-caret-down\"></i><i class=\"fa fa-caret-up\" style=\"display:none\"></i></a>,\n",
              " <a class=\"topnav-icons fa w3-right w3-bar-item w3-button\" href=\"javascript:void(0);\" onclick=\"open_search(this)\" title=\"Search W3Schools\"></a>,\n",
              " <a class=\"topnav-icons fa w3-right w3-bar-item w3-button\" href=\"javascript:void(0);\" onclick=\"open_translate(this)\" title=\"Translate W3Schools\"></a>,\n",
              " <a class=\"topnav-icons fa w3-right w3-bar-item w3-button\" href=\"javascript:void(0);\" onclick=\"changecodetheme(this)\" title=\"Toggle Dark Code\"></a>,\n",
              " <a class=\"w3-bar-item w3-button w3-right\" href=\"https://shop.w3schools.com\" target=\"_blank\">SHOP</a>,\n",
              " <a class=\"w3-bar-item w3-button w3-right\" href=\"/cert/default.asp\" title=\"Certificates\">CERTIFICATES</a>,\n",
              " <a class=\"w3-bar-item w3-button w3-right\" href=\"javascript:void(0);\" id=\"topnavbtn_references\" onclick='w3_open_nav(\"references\")' title=\"References\">REFERENCES <i class=\"fa fa-caret-down\"></i><i class=\"fa fa-caret-up\" style=\"display:none\"></i></a>,\n",
              " <a class=\"w3-bar-item w3-button w3-right w3-hide-medium\" href=\"javascript:void(0);\" id=\"topnavbtn_exercises\" onclick='w3_open_nav(\"exercises\")' title=\"Exercises\">EXERCISES <i class=\"fa fa-caret-down\"></i><i class=\"fa fa-caret-up\" style=\"display:none\"></i></a>,\n",
              " <a class=\"w3-bar-item w3-button\" href=\"/html/default.asp\">Learn HTML</a>,\n",
              " <a class=\"w3-bar-item w3-button\" href=\"/css/default.asp\">Learn CSS</a>,\n",
              " <a class=\"w3-bar-item w3-button\" href=\"/bootstrap/bootstrap_ver.asp\">Learn Bootstrap</a>,\n",
              " <a class=\"w3-bar-item w3-button\" href=\"/w3css/default.asp\">Learn W3.CSS</a>,\n",
              " <a class=\"w3-bar-item w3-button\" href=\"/colors/default.asp\">Learn Colors</a>,\n",
              " <a class=\"w3-bar-item w3-button\" href=\"/icons/default.asp\">Learn Icons</a>,\n",
              " <a class=\"w3-bar-item w3-button\" href=\"/graphics/default.asp\">Learn Graphics</a>,\n",
              " <a class=\"w3-bar-item w3-button\" href=\"/graphics/svg_intro.asp\">Learn SVG</a>,\n",
              " <a class=\"w3-bar-item w3-button\" href=\"/graphics/canvas_intro.asp\">Learn Canvas</a>,\n",
              " <a class=\"w3-bar-item w3-button\" href=\"/howto/default.asp\">Learn How To</a>,\n",
              " <a class=\"w3-bar-item w3-button\" href=\"/sass/default.php\">Learn Sass</a>,\n",
              " <a class=\"w3-bar-item w3-button\" href=\"/xml/default.asp\">Learn XML</a>,\n",
              " <a class=\"w3-bar-item w3-button\" href=\"/xml/ajax_intro.asp\">Learn XML AJAX</a>,\n",
              " <a class=\"w3-bar-item w3-button\" href=\"/xml/dom_intro.asp\">Learn XML DOM</a>,\n",
              " <a class=\"w3-bar-item w3-button\" href=\"/xml/xml_dtd_intro.asp\">Learn XML DTD</a>,\n",
              " <a class=\"w3-bar-item w3-button\" href=\"/xml/schema_intro.asp\">Learn XML Schema</a>,\n",
              " <a class=\"w3-bar-item w3-button\" href=\"/xml/xsl_intro.asp\">Learn XSLT</a>,\n",
              " <a class=\"w3-bar-item w3-button\" href=\"/xml/xpath_intro.asp\">Learn XPath</a>,\n",
              " <a class=\"w3-bar-item w3-button\" href=\"/xml/xquery_intro.asp\">Learn XQuery</a>,\n",
              " <a class=\"w3-bar-item w3-button\" href=\"/js/default.asp\">Learn JavaScript</a>,\n",
              " <a class=\"w3-bar-item w3-button\" href=\"/jquery/default.asp\">Learn jQuery</a>,\n",
              " <a class=\"w3-bar-item w3-button\" href=\"/react/default.asp\">Learn React</a>,\n",
              " <a class=\"w3-bar-item w3-button\" href=\"/angular/default.asp\">Learn AngularJS</a>,\n",
              " <a class=\"w3-bar-item w3-button\" href=\"/js/js_json_intro.asp\">Learn JSON</a>,\n",
              " <a class=\"w3-bar-item w3-button\" href=\"/js/js_ajax_intro.asp\">Learn AJAX</a>,\n",
              " <a class=\"w3-bar-item w3-button\" href=\"/appml/default.asp\">Learn AppML</a>,\n",
              " <a class=\"w3-bar-item w3-button\" href=\"/w3js/default.asp\">Learn W3.JS</a>,\n",
              " <a class=\"w3-bar-item w3-button\" href=\"/python/default.asp\">Learn Python</a>,\n",
              " <a class=\"w3-bar-item w3-button\" href=\"/java/default.asp\">Learn Java</a>,\n",
              " <a class=\"w3-bar-item w3-button\" href=\"/cpp/default.asp\">Learn C++</a>,\n",
              " <a class=\"w3-bar-item w3-button\" href=\"/cs/default.asp\">Learn C#</a>,\n",
              " <a class=\"w3-bar-item w3-button\" href=\"/r/default.asp\">Learn R</a>,\n",
              " <a class=\"w3-bar-item w3-button\" href=\"/python/python_ml_getting_started.asp\">Learn Machine Learning</a>,\n",
              " <a class=\"w3-bar-item w3-button\" href=\"/datascience/default.asp\">Data Science</a>,\n",
              " <a class=\"w3-bar-item w3-button\" href=\"/python/pandas_tutorial.asp\">Learn Pandas</a>,\n",
              " <a class=\"w3-bar-item w3-button\" href=\"/sql/default.asp\">Learn SQL</a>,\n",
              " <a class=\"w3-bar-item w3-button\" href=\"/php/default.asp\">Learn PHP</a>,\n",
              " <a class=\"w3-bar-item w3-button\" href=\"/asp/default.asp\">Learn ASP</a>,\n",
              " <a class=\"w3-bar-item w3-button\" href=\"/nodejs/default.asp\">Learn Node.js</a>,\n",
              " <a class=\"w3-bar-item w3-button\" href=\"/nodejs/nodejs_raspberrypi.asp\">Learn Raspberry Pi</a>,\n",
              " <a class=\"w3-bar-item w3-button\" href=\"/w3css/w3css_templates.asp\">Web Templates</a>,\n",
              " <a class=\"w3-bar-item w3-button\" href=\"/browsers/default.asp\">Web Statistics</a>,\n",
              " <a class=\"w3-bar-item w3-button\" href=\"/cert/default.asp\">Web Certificates</a>,\n",
              " <a class=\"w3-bar-item w3-button\" href=\"/tryit/default.asp\">Web Editor</a>,\n",
              " <a class=\"w3-bar-item w3-button\" href=\"/whatis/default.asp\">Web Development</a>,\n",
              " <a class=\"w3-bar-item w3-button\" href=\"/typingspeed/default.asp\">Test Your Typing Speed</a>,\n",
              " <a class=\"w3-bar-item w3-button\" href=\"/xml/default.asp\">Learn XML</a>,\n",
              " <a class=\"w3-bar-item w3-button\" href=\"/xml/ajax_intro.asp\">Learn XML AJAX</a>,\n",
              " <a class=\"w3-bar-item w3-button\" href=\"/xml/dom_intro.asp\">Learn XML DOM</a>,\n",
              " <a class=\"w3-bar-item w3-button\" href=\"/xml/xml_dtd_intro.asp\">Learn XML DTD</a>,\n",
              " <a class=\"w3-bar-item w3-button\" href=\"/xml/schema_intro.asp\">Learn XML Schema</a>,\n",
              " <a class=\"w3-bar-item w3-button\" href=\"/xml/xsl_intro.asp\">Learn XSLT</a>,\n",
              " <a class=\"w3-bar-item w3-button\" href=\"/xml/xpath_intro.asp\">Learn XPath</a>,\n",
              " <a class=\"w3-bar-item w3-button\" href=\"/xml/xquery_intro.asp\">Learn XQuery</a>,\n",
              " <a class=\"w3-bar-item w3-button\" href=\"/tags/default.asp\">HTML Tag Reference</a>,\n",
              " <a class=\"w3-bar-item w3-button\" href=\"/tags/ref_html_browsersupport.asp\">HTML Browser Support</a>,\n",
              " <a class=\"w3-bar-item w3-button\" href=\"/tags/ref_eventattributes.asp\">HTML Event Reference</a>,\n",
              " <a class=\"w3-bar-item w3-button\" href=\"/colors/default.asp\">HTML Color Reference</a>,\n",
              " <a class=\"w3-bar-item w3-button\" href=\"/tags/ref_attributes.asp\">HTML Attribute Reference</a>,\n",
              " <a class=\"w3-bar-item w3-button\" href=\"/tags/ref_canvas.asp\">HTML Canvas Reference</a>,\n",
              " <a class=\"w3-bar-item w3-button\" href=\"/graphics/svg_reference.asp\">HTML SVG Reference</a>,\n",
              " <a class=\"w3-bar-item w3-button\" href=\"/charsets/default.asp\">HTML Character Sets</a>,\n",
              " <a class=\"w3-bar-item w3-button\" href=\"/graphics/google_maps_reference.asp\">Google Maps Reference</a>,\n",
              " <a class=\"w3-bar-item w3-button\" href=\"/cssref/default.asp\">CSS Reference</a>,\n",
              " <a class=\"w3-bar-item w3-button\" href=\"/cssref/css3_browsersupport.asp\">CSS Browser Support</a>,\n",
              " <a class=\"w3-bar-item w3-button\" href=\"/cssref/css_selectors.asp\">CSS Selector Reference</a>,\n",
              " <a class=\"w3-bar-item w3-button\" href=\"/bootstrap/bootstrap_ref_all_classes.asp\">Bootstrap 3 Reference</a>,\n",
              " <a class=\"w3-bar-item w3-button\" href=\"/bootstrap4/bootstrap_ref_all_classes.asp\">Bootstrap 4 Reference</a>,\n",
              " <a class=\"w3-bar-item w3-button\" href=\"/w3css/w3css_references.asp\">W3.CSS Reference</a>,\n",
              " <a class=\"w3-bar-item w3-button\" href=\"/icons/icons_reference.asp\">Icon Reference</a>,\n",
              " <a class=\"w3-bar-item w3-button\" href=\"/sass/sass_functions_string.php\">Sass Reference</a>,\n",
              " <a class=\"w3-bar-item w3-button\" href=\"/jsref/default.asp\">JavaScript Reference</a>,\n",
              " <a class=\"w3-bar-item w3-button\" href=\"/jsref/default.asp\">HTML DOM Reference</a>,\n",
              " <a class=\"w3-bar-item w3-button\" href=\"/jquery/jquery_ref_overview.asp\">jQuery Reference</a>,\n",
              " <a class=\"w3-bar-item w3-button\" href=\"/angular/angular_ref_directives.asp\">AngularJS Reference</a>,\n",
              " <a class=\"w3-bar-item w3-button\" href=\"/appml/appml_reference.asp\">AppML Reference</a>,\n",
              " <a class=\"w3-bar-item w3-button\" href=\"/w3js/w3js_references.asp\">W3.JS Reference</a>,\n",
              " <a class=\"w3-bar-item w3-button\" href=\"/python/python_reference.asp\">Python Reference</a>,\n",
              " <a class=\"w3-bar-item w3-button\" href=\"/java/java_ref_keywords.asp\">Java Reference</a>,\n",
              " <a class=\"w3-bar-item w3-button\" href=\"/sql/sql_ref_keywords.asp\">SQL Reference</a>,\n",
              " <a class=\"w3-bar-item w3-button\" href=\"/php/php_ref_overview.asp\">PHP Reference</a>,\n",
              " <a class=\"w3-bar-item w3-button\" href=\"/asp/asp_ref_response.asp\">ASP Reference</a>,\n",
              " <a class=\"w3-bar-item w3-button\" href=\"/xml/dom_nodetype.asp\">XML Reference</a>,\n",
              " <a class=\"w3-bar-item w3-button\" href=\"/xml/dom_http.asp\">XML Http Reference</a>,\n",
              " <a class=\"w3-bar-item w3-button\" href=\"/xml/xsl_elementref.asp\">XSLT Reference</a>,\n",
              " <a class=\"w3-bar-item w3-button\" href=\"/xml/schema_elements_ref.asp\">XML Schema Reference</a>,\n",
              " <a class=\"w3-bar-item w3-button\" href=\"/charsets/default.asp\">HTML Character Sets</a>,\n",
              " <a class=\"w3-bar-item w3-button\" href=\"/charsets/ref_html_ascii.asp\">HTML ASCII</a>,\n",
              " <a class=\"w3-bar-item w3-button\" href=\"/charsets/ref_html_ansi.asp\">HTML ANSI</a>,\n",
              " <a class=\"w3-bar-item w3-button\" href=\"/charsets/ref_html_ansi.asp\">HTML Windows-1252</a>,\n",
              " <a class=\"w3-bar-item w3-button\" href=\"/charsets/ref_html_8859.asp\">HTML ISO-8859-1</a>,\n",
              " <a class=\"w3-bar-item w3-button\" href=\"/charsets/ref_html_symbols.asp\">HTML Symbols</a>,\n",
              " <a class=\"w3-bar-item w3-button\" href=\"/charsets/ref_html_utf8.asp\">HTML UTF-8</a>,\n",
              " <a class=\"w3-bar-item w3-button\" href=\"/html/html_exercises.asp\">HTML Exercises</a>,\n",
              " <a class=\"w3-bar-item w3-button\" href=\"/css/css_exercises.asp\">CSS Exercises</a>,\n",
              " <a class=\"w3-bar-item w3-button\" href=\"/js/js_exercises.asp\">JavaScript Exercises</a>,\n",
              " <a class=\"w3-bar-item w3-button\" href=\"/sql/sql_exercises.asp\">SQL Exercises</a>,\n",
              " <a class=\"w3-bar-item w3-button\" href=\"/php/php_exercises.asp\">PHP Exercises</a>,\n",
              " <a class=\"w3-bar-item w3-button\" href=\"/python/python_exercises.asp\">Python Exercises</a>,\n",
              " <a class=\"w3-bar-item w3-button\" href=\"/jquery/jquery_exercises.asp\">jQuery Exercises</a>,\n",
              " <a class=\"w3-bar-item w3-button\" href=\"/bootstrap/bootstrap_exercises.asp\">Bootstrap Exercises</a>,\n",
              " <a class=\"w3-bar-item w3-button\" href=\"/java/java_exercises.asp\">Java Exercises</a>,\n",
              " <a class=\"w3-bar-item w3-button\" href=\"/cpp/cpp_exercises.asp\">C++ Exercises</a>,\n",
              " <a class=\"w3-bar-item w3-button\" href=\"/cs/cs_exercises.asp\">C# Exercises</a>,\n",
              " <a class=\"w3-bar-item w3-button\" href=\"/html/html_quiz.asp\" target=\"_top\">HTML Quiz</a>,\n",
              " <a class=\"w3-bar-item w3-button\" href=\"/css/css_quiz.asp\" target=\"_top\">CSS Quiz</a>,\n",
              " <a class=\"w3-bar-item w3-button\" href=\"/js/js_quiz.asp\" target=\"_top\">JavaScript Quiz</a>,\n",
              " <a class=\"w3-bar-item w3-button\" href=\"/sql/sql_quiz.asp\" target=\"_top\">SQL Quiz</a>,\n",
              " <a class=\"w3-bar-item w3-button\" href=\"/php/php_quiz.asp\" target=\"_top\">PHP Quiz</a>,\n",
              " <a class=\"w3-bar-item w3-button\" href=\"/python/python_quiz.asp\" target=\"_top\">Python Quiz</a>,\n",
              " <a class=\"w3-bar-item w3-button\" href=\"/jquery/jquery_quiz.asp\" target=\"_top\">jQuery Quiz</a>,\n",
              " <a class=\"w3-bar-item w3-button\" href=\"/bootstrap/bootstrap_quiz.asp\" target=\"_top\">Bootstrap Quiz</a>,\n",
              " <a class=\"w3-bar-item w3-button\" href=\"/java/java_quiz.asp\" target=\"_top\">Java Quiz</a>,\n",
              " <a class=\"w3-bar-item w3-button\" href=\"/cpp/cpp_quiz.asp\" target=\"_top\">C++ Quiz</a>,\n",
              " <a class=\"w3-bar-item w3-button\" href=\"/cs/cs_quiz.asp\" target=\"_top\">C# Quiz</a>,\n",
              " <a class=\"w3-bar-item w3-button\" href=\"/xml/xml_quiz.asp\" target=\"_top\">XML Quiz</a>,\n",
              " <a href=\"/cert/default.asp\" style=\"padding-left:0!important;text-decoration:none;\">Certificates</a>,\n",
              " <a class=\"w3-bar-item w3-button\" href=\"/cert/cert_html_new.asp\" target=\"_top\">HTML Certificate</a>,\n",
              " <a class=\"w3-bar-item w3-button\" href=\"/cert/cert_css.asp\" target=\"_top\">CSS Certificate</a>,\n",
              " <a class=\"w3-bar-item w3-button\" href=\"/cert/cert_javascript.asp\" target=\"_top\">JavaScript Certificate</a>,\n",
              " <a class=\"w3-bar-item w3-button\" href=\"/cert/cert_sql.asp\" target=\"_top\">SQL Certificate</a>,\n",
              " <a class=\"w3-bar-item w3-button\" href=\"/cert/cert_php.asp\" target=\"_top\">PHP Certificate</a>,\n",
              " <a class=\"w3-bar-item w3-button\" href=\"/cert/cert_python.asp\" target=\"_top\">Python Certificate</a>,\n",
              " <a class=\"w3-bar-item w3-button\" href=\"/cert/cert_jquery.asp\" target=\"_top\">jQuery Certificate</a>,\n",
              " <a class=\"w3-bar-item w3-button\" href=\"/cert/cert_bootstrap.asp\" target=\"_top\">Bootstrap Certificate</a>,\n",
              " <a class=\"w3-bar-item w3-button\" href=\"/cert/cert_xml.asp\" target=\"_top\">XML Certificate</a>,\n",
              " <a href=\"https://mypage.w3schools.com/mypage/index.php\">Why Log In?</a>,\n",
              " <a href=\"https://mypage.w3schools.com/mypage/login.php?logintyp=1\" target=\"_blank\">Sign Up For Free!</a>,\n",
              " <a href=\"https://mypage.w3schools.com/mypage/forgot_password.php\">Forgot password?</a>,\n",
              " <a href=\"default.asp\" target=\"_top\">Python HOME</a>,\n",
              " <a href=\"python_intro.asp\" target=\"_top\">Python Intro</a>,\n",
              " <a href=\"python_getstarted.asp\" target=\"_top\">Python Get Started</a>,\n",
              " <a href=\"python_syntax.asp\" target=\"_top\">Python Syntax</a>,\n",
              " <a href=\"python_comments.asp\" target=\"_top\">Python Comments</a>,\n",
              " <a href=\"python_variables.asp\" target=\"_top\">Python Variables</a>,\n",
              " <a href=\"python_variables.asp\" target=\"_top\">Python Variables</a>,\n",
              " <a href=\"python_variables_names.asp\" target=\"_top\">Variable Names</a>,\n",
              " <a href=\"python_variables_multiple.asp\" target=\"_top\">Assign Multiple Values</a>,\n",
              " <a href=\"python_variables_output.asp\" target=\"_top\">Output Variables</a>,\n",
              " <a href=\"python_variables_global.asp\" target=\"_top\">Global Variables</a>,\n",
              " <a href=\"python_variables_exercises.asp\" target=\"_top\">Variable Exercises</a>,\n",
              " <a href=\"python_datatypes.asp\" target=\"_top\">Python Data Types</a>,\n",
              " <a href=\"python_numbers.asp\" target=\"_top\">Python Numbers</a>,\n",
              " <a href=\"python_casting.asp\" target=\"_top\">Python Casting</a>,\n",
              " <a href=\"python_strings.asp\" target=\"_top\">Python Strings</a>,\n",
              " <a href=\"python_strings.asp\" target=\"_top\">Python Strings</a>,\n",
              " <a href=\"python_strings_slicing.asp\" target=\"_top\">Slicing Strings</a>,\n",
              " <a href=\"python_strings_modify.asp\" target=\"_top\">Modify Strings</a>,\n",
              " <a href=\"python_strings_concatenate.asp\" target=\"_top\">Concatenate Strings</a>,\n",
              " <a href=\"python_strings_format.asp\" target=\"_top\">Format Strings</a>,\n",
              " <a href=\"python_strings_escape.asp\" target=\"_top\">Escape Characters</a>,\n",
              " <a href=\"python_strings_methods.asp\" target=\"_top\">String Methods</a>,\n",
              " <a href=\"python_strings_exercises.asp\" target=\"_top\">String Exercises</a>,\n",
              " <a href=\"python_booleans.asp\" target=\"_top\">Python Booleans</a>,\n",
              " <a href=\"python_operators.asp\" target=\"_top\">Python Operators</a>,\n",
              " <a href=\"python_lists.asp\" target=\"_top\">Python Lists</a>,\n",
              " <a href=\"python_lists.asp\" target=\"_top\">Python Lists</a>,\n",
              " <a href=\"python_lists_access.asp\" target=\"_top\">Access List Items</a>,\n",
              " <a href=\"python_lists_change.asp\" target=\"_top\">Change List Items</a>,\n",
              " <a href=\"python_lists_add.asp\" target=\"_top\">Add List Items</a>,\n",
              " <a href=\"python_lists_remove.asp\" target=\"_top\">Remove List Items</a>,\n",
              " <a href=\"python_lists_loop.asp\" target=\"_top\">Loop Lists</a>,\n",
              " <a href=\"python_lists_comprehension.asp\" target=\"_top\">List Comprehension</a>,\n",
              " <a href=\"python_lists_sort.asp\" target=\"_top\">Sort Lists</a>,\n",
              " <a href=\"python_lists_copy.asp\" target=\"_top\">Copy Lists</a>,\n",
              " <a href=\"python_lists_join.asp\" target=\"_top\">Join Lists</a>,\n",
              " <a href=\"python_lists_methods.asp\" target=\"_top\">List Methods</a>,\n",
              " <a href=\"python_lists_exercises.asp\" target=\"_top\">List Exercises</a>,\n",
              " <a href=\"python_tuples.asp\" target=\"_top\">Python Tuples</a>,\n",
              " <a href=\"python_tuples.asp\" target=\"_top\">Python Tuples</a>,\n",
              " <a href=\"python_tuples_access.asp\" target=\"_top\">Access Tuples</a>,\n",
              " <a href=\"python_tuples_update.asp\" target=\"_top\">Update Tuples</a>,\n",
              " <a href=\"python_tuples_unpack.asp\" target=\"_top\">Unpack Tuples</a>,\n",
              " <a href=\"python_tuples_loop.asp\" target=\"_top\">Loop Tuples</a>,\n",
              " <a href=\"python_tuples_join.asp\" target=\"_top\">Join Tuples</a>,\n",
              " <a href=\"python_tuples_methods.asp\" target=\"_top\">Tuple Methods</a>,\n",
              " <a href=\"python_tuples_exercises.asp\" target=\"_top\">Tuple Exercises</a>,\n",
              " <a href=\"python_sets.asp\" target=\"_top\">Python Sets</a>,\n",
              " <a href=\"python_sets.asp\" target=\"_top\">Python Sets</a>,\n",
              " <a href=\"python_sets_access.asp\" target=\"_top\">Access Set Items</a>,\n",
              " <a href=\"python_sets_add.asp\" target=\"_top\">Add Set Items</a>,\n",
              " <a href=\"python_sets_remove.asp\" target=\"_top\">Remove Set Items</a>,\n",
              " <a href=\"python_sets_loop.asp\" target=\"_top\">Loop Sets</a>,\n",
              " <a href=\"python_sets_join.asp\" target=\"_top\">Join Sets</a>,\n",
              " <a href=\"python_sets_methods.asp\" target=\"_top\">Set Methods</a>,\n",
              " <a href=\"python_sets_exercises.asp\" target=\"_top\">Set Exercises</a>,\n",
              " <a href=\"python_dictionaries.asp\" target=\"_top\">Python Dictionaries</a>,\n",
              " <a href=\"python_dictionaries.asp\" target=\"_top\">Python Dictionaries</a>,\n",
              " <a href=\"python_dictionaries_access.asp\" target=\"_top\">Access Items</a>,\n",
              " <a href=\"python_dictionaries_change.asp\" target=\"_top\">Change Items</a>,\n",
              " <a href=\"python_dictionaries_add.asp\" target=\"_top\">Add Items</a>,\n",
              " <a href=\"python_dictionaries_remove.asp\" target=\"_top\">Remove Items</a>,\n",
              " <a href=\"python_dictionaries_loop.asp\" target=\"_top\">Loop Dictionaries</a>,\n",
              " <a href=\"python_dictionaries_copy.asp\" target=\"_top\">Copy Dictionaries</a>,\n",
              " <a href=\"python_dictionaries_nested.asp\" target=\"_top\">Nested Dictionaries</a>,\n",
              " <a href=\"python_dictionaries_methods.asp\" target=\"_top\">Dictionary Methods</a>,\n",
              " <a href=\"python_dictionaries_exercises.asp\" target=\"_top\">Dictionary Exercise</a>,\n",
              " <a href=\"python_conditions.asp\" target=\"_top\">Python If...Else</a>,\n",
              " <a href=\"python_while_loops.asp\" target=\"_top\">Python While Loops</a>,\n",
              " <a href=\"python_for_loops.asp\" target=\"_top\">Python For Loops</a>,\n",
              " <a href=\"python_functions.asp\" target=\"_top\">Python Functions</a>,\n",
              " <a href=\"python_lambda.asp\" target=\"_top\">Python Lambda</a>,\n",
              " <a href=\"python_arrays.asp\" target=\"_top\">Python Arrays</a>,\n",
              " <a href=\"python_classes.asp\" target=\"_top\">Python Classes/Objects</a>,\n",
              " <a href=\"python_inheritance.asp\" target=\"_top\">Python Inheritance</a>,\n",
              " <a href=\"python_iterators.asp\" target=\"_top\">Python Iterators</a>,\n",
              " <a href=\"python_scope.asp\" target=\"_top\">Python Scope</a>,\n",
              " <a href=\"python_modules.asp\" target=\"_top\">Python Modules</a>,\n",
              " <a href=\"python_datetime.asp\" target=\"_top\">Python Dates</a>,\n",
              " <a href=\"python_math.asp\" target=\"_top\">Python Math</a>,\n",
              " <a href=\"python_json.asp\" target=\"_top\">Python JSON</a>,\n",
              " <a href=\"python_regex.asp\" target=\"_top\">Python RegEx</a>,\n",
              " <a href=\"python_pip.asp\" target=\"_top\">Python PIP</a>,\n",
              " <a href=\"python_try_except.asp\" target=\"_top\">Python Try...Except</a>,\n",
              " <a href=\"python_user_input.asp\" target=\"_top\">Python User Input</a>,\n",
              " <a href=\"python_string_formatting.asp\" target=\"_top\">Python String Formatting</a>,\n",
              " <a href=\"python_file_handling.asp\" target=\"_top\">Python File Handling</a>,\n",
              " <a href=\"python_file_open.asp\" target=\"_top\">Python Read Files</a>,\n",
              " <a href=\"python_file_write.asp\" target=\"_top\">Python Write/Create Files</a>,\n",
              " <a href=\"python_file_remove.asp\" target=\"_top\">Python Delete Files</a>,\n",
              " <a href=\"numpy_intro.asp\" target=\"_top\">NumPy Intro</a>,\n",
              " <a href=\"numpy_getting_started.asp\" target=\"_top\">NumPy Getting Started</a>,\n",
              " <a href=\"numpy_creating_arrays.asp\" target=\"_top\">NumPy Creating Arrays</a>,\n",
              " <a href=\"numpy_array_indexing.asp\" target=\"_top\">NumPy Array Indexing</a>,\n",
              " <a href=\"numpy_array_slicing.asp\" target=\"_top\">NumPy Array Slicing</a>,\n",
              " <a href=\"numpy_data_types.asp\" target=\"_top\">NumPy Data Types</a>,\n",
              " <a href=\"numpy_copy_vs_view.asp\" target=\"_top\">NumPy Copy vs View</a>,\n",
              " <a href=\"numpy_array_shape.asp\" target=\"_top\">NumPy Array Shape</a>,\n",
              " <a href=\"numpy_array_reshape.asp\" target=\"_top\">NumPy Array Reshape</a>,\n",
              " <a href=\"numpy_array_iterating.asp\" target=\"_top\">NumPy Array Iterating</a>,\n",
              " <a href=\"numpy_array_join.asp\" target=\"_top\">NumPy Array Join</a>,\n",
              " <a href=\"numpy_array_split.asp\" target=\"_top\">NumPy Array Split</a>,\n",
              " <a href=\"numpy_array_search.asp\" target=\"_top\">NumPy Array Search</a>,\n",
              " <a href=\"numpy_array_sort.asp\" target=\"_top\">NumPy Array Sort</a>,\n",
              " <a href=\"numpy_array_filter.asp\" target=\"_top\">NumPy Array Filter</a>,\n",
              " <a href=\"numpy_random.asp\" target=\"_top\">NumPy Random</a>,\n",
              " <a href=\"numpy_random.asp\" target=\"_top\">Random Intro</a>,\n",
              " <a href=\"numpy_random_distribution.asp\" target=\"_top\">Data Distribution</a>,\n",
              " <a href=\"numpy_random_permutation.asp\" target=\"_top\">Random Permutation</a>,\n",
              " <a href=\"numpy_random_seaborn.asp\" target=\"_top\">Seaborn Module</a>,\n",
              " <a href=\"numpy_random_normal.asp\" target=\"_top\">Normal Distribution</a>,\n",
              " <a href=\"numpy_random_binomial.asp\" target=\"_top\">Binomial Distribution</a>,\n",
              " <a href=\"numpy_random_poisson.asp\" target=\"_top\">Poisson Distribution</a>,\n",
              " <a href=\"numpy_random_uniform.asp\" target=\"_top\">Uniform Distribution</a>,\n",
              " <a href=\"numpy_random_logistic.asp\" target=\"_top\">Logistic Distribution</a>,\n",
              " <a href=\"numpy_random_multinomial.asp\" target=\"_top\">Multinomial Distribution</a>,\n",
              " <a href=\"numpy_random_exponential.asp\" target=\"_top\">Exponential Distribution</a>,\n",
              " <a href=\"numpy_random_chisquare.asp\" target=\"_top\">Chi Square Distribution</a>,\n",
              " <a href=\"numpy_random_rayleigh.asp\" target=\"_top\">Rayleigh Distribution</a>,\n",
              " <a href=\"numpy_random_pareto.asp\" target=\"_top\">Pareto Distribution</a>,\n",
              " <a href=\"numpy_random_zipf.asp\" target=\"_top\">Zipf Distribution</a>,\n",
              " <a href=\"numpy_ufunc.asp\" target=\"_top\">NumPy ufunc</a>,\n",
              " <a href=\"numpy_ufunc.asp\" target=\"_top\">ufunc Intro</a>,\n",
              " <a href=\"numpy_ufunc_create_function.asp\" target=\"_top\">ufunc Create Function</a>,\n",
              " <a href=\"numpy_ufunc_simple_arithmetic.asp\" target=\"_top\">ufunc Simple Arithmetic</a>,\n",
              " <a href=\"numpy_ufunc_rounding_decimals.asp\" target=\"_top\">ufunc Rounding Decimals</a>,\n",
              " <a href=\"numpy_ufunc_logs.asp\" target=\"_top\">ufunc Logs</a>,\n",
              " <a href=\"numpy_ufunc_summations.asp\" target=\"_top\">ufunc Summations</a>,\n",
              " <a href=\"numpy_ufunc_products.asp\" target=\"_top\">ufunc Products</a>,\n",
              " <a href=\"numpy_ufunc_differences.asp\" target=\"_top\">ufunc Differences</a>,\n",
              " <a href=\"numpy_ufunc_lcm.asp\" target=\"_top\">ufunc Finding LCM</a>,\n",
              " <a href=\"numpy_ufunc_gcd.asp\" target=\"_top\">ufunc Finding GCD</a>,\n",
              " <a href=\"numpy_ufunc_trigonometric.asp\" target=\"_top\">ufunc Trigonometric</a>,\n",
              " <a href=\"numpy_ufunc_hyperbolic.asp\" target=\"_top\">ufunc Hyperbolic</a>,\n",
              " <a href=\"numpy_ufunc_set_operations.asp\" target=\"_top\">ufunc Set Operations</a>,\n",
              " <a href=\"pandas_tutorial.asp\" target=\"_top\">Pandas Tutorial</a>,\n",
              " <a href=\"pandas_getting_started.asp\" target=\"_top\">Pandas Getting Started</a>,\n",
              " <a href=\"pandas_series.asp\" target=\"_top\">Pandas Series</a>,\n",
              " <a href=\"pandas_dataframes.asp\" target=\"_top\">Pandas DataFrames</a>,\n",
              " <a href=\"pandas_csv.asp\" target=\"_top\">Pandas Read CSV</a>,\n",
              " <a href=\"pandas_json.asp\" target=\"_top\">Pandas Read JSON</a>,\n",
              " <a href=\"pandas_analyzing.asp\" target=\"_top\">Pandas Analyzing Data</a>,\n",
              " <a href=\"pandas_cleaning.asp\" target=\"_top\">Pandas Cleaning Data</a>,\n",
              " <a href=\"pandas_cleaning.asp\" target=\"_top\">Pandas Cleaning Data</a>,\n",
              " <a href=\"pandas_cleaning_empty_cells.asp\" target=\"_top\">Cleaning Empty Cells</a>,\n",
              " <a href=\"pandas_cleaning_wrong_format.asp\" target=\"_top\">Cleaning Wrong Format</a>,\n",
              " <a href=\"pandas_cleaning_wrong_data.asp\" target=\"_top\">Cleaning Wrong Data</a>,\n",
              " <a href=\"pandas_cleaning_duplicates.asp\" target=\"_top\">Removing Duplicates</a>,\n",
              " <a href=\"pandas_correlations.asp\" target=\"_top\">Pandas Correlations</a>,\n",
              " <a href=\"pandas_plotting.asp\" target=\"_top\">Pandas Plotting</a>,\n",
              " <a href=\"matplotlib_intro.asp\" target=\"_top\">Matplotlib Intro</a>,\n",
              " <a href=\"matplotlib_getting_started.asp\" target=\"_top\">Matplotlib Get Started</a>,\n",
              " <a href=\"matplotlib_pyplot.asp\" target=\"_top\">Matplotlib Pyplot</a>,\n",
              " <a href=\"matplotlib_plotting.asp\" target=\"_top\">Matplotlib Plotting</a>,\n",
              " <a href=\"matplotlib_markers.asp\" target=\"_top\">Matplotlib Markers</a>,\n",
              " <a href=\"matplotlib_line.asp\" target=\"_top\">Matplotlib Line</a>,\n",
              " <a href=\"matplotlib_subplots.asp\" target=\"_top\">Matplotlib Subplots</a>,\n",
              " <a href=\"matplotlib_scatter.asp\" target=\"_top\">Matplotlib Scatter</a>,\n",
              " <a href=\"matplotlib_bars.asp\" target=\"_top\">Matplotlib Bars</a>,\n",
              " <a href=\"matplotlib_histograms.asp\" target=\"_top\">Matplotlib Histograms</a>,\n",
              " <a href=\"matplotlib_pie_charts.asp\" target=\"_top\">Matplotlib Pie Charts</a>,\n",
              " <a href=\"scipy_intro.asp\" target=\"_top\">SciPy Intro</a>,\n",
              " <a href=\"scipy_getting_started.asp\" target=\"_top\">SciPy Getting Started</a>,\n",
              " <a href=\"scipy_constants.asp\" target=\"_top\">SciPy Constants</a>,\n",
              " <a href=\"scipy_optimizers.asp\" target=\"_top\">SciPy Optimizers</a>,\n",
              " <a href=\"scipy_sparse_data.asp\" target=\"_top\">SciPy Sparse Data</a>,\n",
              " <a href=\"scipy_graphs.asp\" target=\"_top\">SciPy Graphs</a>,\n",
              " <a href=\"scipy_spatial_data.asp\" target=\"_top\">SciPy Spatial Data</a>,\n",
              " <a href=\"scipy_matlab_arrays.asp\" target=\"_top\">SciPy Matlab Arrays</a>,\n",
              " <a href=\"scipy_interpolation.asp\" target=\"_top\">SciPy Interpolation</a>,\n",
              " <a href=\"scipy_statistical_significance_tests.asp\" target=\"_top\">SciPy Significance Tests</a>,\n",
              " <a href=\"python_ml_getting_started.asp\" target=\"_top\">Getting Started</a>,\n",
              " <a href=\"python_ml_mean_median_mode.asp\" target=\"_top\">Mean Median Mode</a>,\n",
              " <a href=\"python_ml_standard_deviation.asp\" target=\"_top\">Standard Deviation</a>,\n",
              " <a href=\"python_ml_percentile.asp\" target=\"_top\">Percentile</a>,\n",
              " <a href=\"python_ml_data_distribution.asp\" target=\"_top\">Data Distribution</a>,\n",
              " <a href=\"python_ml_normal_data_distribution.asp\" target=\"_top\">Normal Data Distribution</a>,\n",
              " <a href=\"python_ml_scatterplot.asp\" target=\"_top\">Scatter Plot</a>,\n",
              " <a href=\"python_ml_linear_regression.asp\" target=\"_top\">Linear Regression</a>,\n",
              " <a href=\"python_ml_polynomial_regression.asp\" target=\"_top\">Polynomial Regression</a>,\n",
              " <a href=\"python_ml_multiple_regression.asp\" target=\"_top\">Multiple Regression</a>,\n",
              " <a href=\"python_ml_scale.asp\" target=\"_top\">Scale</a>,\n",
              " <a href=\"python_ml_train_test.asp\" target=\"_top\">Train/Test</a>,\n",
              " <a href=\"python_ml_decision_tree.asp\" target=\"_top\">Decision Tree</a>,\n",
              " <a href=\"python_mysql_getstarted.asp\" target=\"_top\">MySQL Get Started</a>,\n",
              " <a href=\"python_mysql_create_db.asp\" target=\"_top\">MySQL Create Database</a>,\n",
              " <a href=\"python_mysql_create_table.asp\" target=\"_top\">MySQL Create Table</a>,\n",
              " <a href=\"python_mysql_insert.asp\" target=\"_top\">MySQL Insert</a>,\n",
              " <a href=\"python_mysql_select.asp\" target=\"_top\">MySQL Select</a>,\n",
              " <a href=\"python_mysql_where.asp\" target=\"_top\">MySQL Where</a>,\n",
              " <a href=\"python_mysql_orderby.asp\" target=\"_top\">MySQL Order By</a>,\n",
              " <a href=\"python_mysql_delete.asp\" target=\"_top\">MySQL Delete</a>,\n",
              " <a href=\"python_mysql_drop_table.asp\" target=\"_top\">MySQL Drop Table</a>,\n",
              " <a href=\"python_mysql_update.asp\" target=\"_top\">MySQL Update</a>,\n",
              " <a href=\"python_mysql_limit.asp\" target=\"_top\">MySQL Limit</a>,\n",
              " <a href=\"python_mysql_join.asp\" target=\"_top\">MySQL Join</a>,\n",
              " <a href=\"python_mongodb_getstarted.asp\" target=\"_top\">MongoDB Get Started</a>,\n",
              " <a href=\"python_mongodb_create_db.asp\" target=\"_top\">MongoDB Create Database</a>,\n",
              " <a href=\"python_mongodb_create_collection.asp\" target=\"_top\">MongoDB Create Collection</a>,\n",
              " <a href=\"python_mongodb_insert.asp\" target=\"_top\">MongoDB Insert</a>,\n",
              " <a href=\"python_mongodb_find.asp\" target=\"_top\">MongoDB Find</a>,\n",
              " <a href=\"python_mongodb_query.asp\" target=\"_top\">MongoDB Query</a>,\n",
              " <a href=\"python_mongodb_sort.asp\" target=\"_top\">MongoDB Sort</a>,\n",
              " <a href=\"python_mongodb_delete.asp\" target=\"_top\">MongoDB Delete</a>,\n",
              " <a href=\"python_mongodb_drop_collection.asp\" target=\"_top\">MongoDB Drop Collection</a>,\n",
              " <a href=\"python_mongodb_update.asp\" target=\"_top\">MongoDB Update</a>,\n",
              " <a href=\"python_mongodb_limit.asp\" target=\"_top\">MongoDB Limit</a>,\n",
              " <a href=\"python_reference.asp\" target=\"_top\">Python Overview</a>,\n",
              " <a href=\"python_ref_functions.asp\" target=\"_top\">Python Built-in Functions</a>,\n",
              " <a href=\"python_ref_string.asp\" target=\"_top\">Python String Methods</a>,\n",
              " <a href=\"python_ref_list.asp\" target=\"_top\">Python List Methods</a>,\n",
              " <a href=\"python_ref_dictionary.asp\" target=\"_top\">Python Dictionary Methods</a>,\n",
              " <a href=\"python_ref_tuple.asp\" target=\"_top\">Python Tuple Methods</a>,\n",
              " <a href=\"python_ref_set.asp\" target=\"_top\">Python Set Methods</a>,\n",
              " <a href=\"python_ref_file.asp\" target=\"_top\">Python File Methods</a>,\n",
              " <a href=\"python_ref_keywords.asp\" target=\"_top\">Python Keywords</a>,\n",
              " <a href=\"python_ref_exceptions.asp\" target=\"_top\">Python Exceptions</a>,\n",
              " <a href=\"python_ref_glossary.asp\" target=\"_top\">Python Glossary</a>,\n",
              " <a href=\"module_random.asp\" target=\"_top\">Random Module</a>,\n",
              " <a href=\"module_requests.asp\" target=\"_top\">Requests Module</a>,\n",
              " <a href=\"module_statistics.asp\" target=\"_top\">Statistics Module</a>,\n",
              " <a href=\"module_math.asp\" target=\"_top\">Math Module</a>,\n",
              " <a href=\"module_cmath.asp\" target=\"_top\">cMath Module</a>,\n",
              " <a href=\"python_howto_remove_duplicates.asp\" target=\"_top\">Remove List Duplicates</a>,\n",
              " <a href=\"python_howto_reverse_string.asp\" target=\"_top\">Reverse a String</a>,\n",
              " <a href=\"python_howto_add_two_numbers.asp\" target=\"_top\">Add Two Numbers</a>,\n",
              " <a href=\"python_examples.asp\" target=\"_top\">Python Examples</a>,\n",
              " <a href=\"python_compiler.asp\" target=\"_top\">Python Compiler</a>,\n",
              " <a href=\"python_exercises.asp\" target=\"_top\">Python Exercises</a>,\n",
              " <a href=\"python_quiz.asp\" target=\"_top\">Python Quiz</a>,\n",
              " <a href=\"python_exam.asp\" target=\"_top\">Python Certificate</a>,\n",
              " <a class=\"w3-left w3-btn\" href=\"/default.asp\">❮ Home</a>,\n",
              " <a class=\"w3-right w3-btn\" href=\"python_intro.asp\">Next ❯</a>,\n",
              " <a class=\"w3-btn w3-margin-bottom\" href=\"python_intro.asp\">Start learning Python now »</a>,\n",
              " <a class=\"w3-btn w3-margin-bottom\" href=\"trypython.asp?filename=demo_default\" target=\"_blank\">Try it Yourself »</a>,\n",
              " <a href=\"python_file_handling.asp\">Python File Handling</a>,\n",
              " <a href=\"python_mysql_getstarted.asp\">Python MySQL Tutorial</a>,\n",
              " <a href=\"python_mongodb_getstarted.asp\">Python MongoDB Tutorial</a>,\n",
              " <a href=\"exercise.asp?filename=exercise_syntax1\" target=\"_blank\">Start the Exercise</a>,\n",
              " <a class=\"w3-button w3-light-grey\" href=\"python_examples.asp\">See All Python Examples</a>,\n",
              " <a class=\"w3-button w3-blue\" href=\"python_quiz.asp\">Python Quiz</a>,\n",
              " <a href=\"python_reference.asp\">Reference Overview</a>,\n",
              " <a href=\"python_ref_functions.asp\">Built-in Functions</a>,\n",
              " <a href=\"python_ref_string.asp\">String Methods</a>,\n",
              " <a href=\"python_ref_list.asp\">List/Array Methods</a>,\n",
              " <a href=\"python_ref_dictionary.asp\">Dictionary Methods</a>,\n",
              " <a href=\"python_ref_tuple.asp\">Tuple Methods</a>,\n",
              " <a href=\"python_ref_set.asp\">Set Methods</a>,\n",
              " <a href=\"python_ref_file.asp\">File Methods</a>,\n",
              " <a href=\"python_ref_keywords.asp\">Python Keywords</a>,\n",
              " <a href=\"python_ref_exceptions.asp\">Python Exceptions</a>,\n",
              " <a href=\"python_ref_glossary.asp\">Python Glossary</a>,\n",
              " <a href=\"module_random.asp\">Random Module</a>,\n",
              " <a href=\"module_requests.asp\">Requests Module</a>,\n",
              " <a href=\"module_math.asp\">Math Module</a>,\n",
              " <a href=\"module_cmath.asp\">CMath Module</a>,\n",
              " <a href=\"https://python.org/\" target=\"_blank\">https://python.org</a>,\n",
              " <a href=\"/cert/default.asp\"><img alt=\"W3Schools Certification\" src=\"/images/w3certified_logo_250.png\" style=\"max-width:100%;\"/></a>,\n",
              " <a class=\"w3-btn\" href=\"/cert/default.asp\">Get Your Certificate »</a>,\n",
              " <a href=\"/cert/default.asp\">HTML Certificate</a>,\n",
              " <a href=\"/cert/default.asp\">CSS Certificate</a>,\n",
              " <a href=\"/cert/default.asp\">JavaScript Certificate</a>,\n",
              " <a href=\"/cert/default.asp\">Python Certificate</a>,\n",
              " <a href=\"/cert/default.asp\">jQuery Certificate</a>,\n",
              " <a href=\"/cert/default.asp\">SQL Certificate</a>,\n",
              " <a href=\"/cert/default.asp\">PHP Certificate</a>,\n",
              " <a href=\"/cert/default.asp\">XML Certificate</a>,\n",
              " <a href=\"/cert/default.asp\">Bootstrap Certificate</a>,\n",
              " <a class=\"w3-left w3-btn\" href=\"/default.asp\">❮ Home</a>,\n",
              " <a class=\"w3-right w3-btn\" href=\"python_intro.asp\">Next ❯</a>,\n",
              " <a href=\"/colors/colors_picker.asp\">COLOR PICKER</a>,\n",
              " <a href=\"/colors/colors_picker.asp\">\n",
              " <img alt=\"colorpicker\" src=\"/images/colorpicker.gif\"/></a>,\n",
              " <a href=\"https://www.facebook.com/w3schoolscom/\" target=\"_blank\" title=\"Facebook\"><span class=\"fa fa-facebook-square fa-2x\"></span></a>,\n",
              " <a href=\"https://www.instagram.com/w3schools.com_official/\" target=\"_blank\" title=\"Instagram\"><span class=\"fa fa-instagram fa-2x\"></span></a>,\n",
              " <a href=\"https://www.linkedin.com/company/w3schools.com/\" target=\"_blank\" title=\"LinkedIn\"><span class=\"fa fa-linkedin-square fa-2x\"></span></a>,\n",
              " <a href=\"https://shop.w3schools.com/\" target=\"_blank\" title=\"Buy W3Schools Merchandize\">\n",
              " <img src=\"/images/tshirt.jpg\" style=\"max-width:100%;\"/>\n",
              " </a>,\n",
              " <a class=\"w3-hover-text-white\" href=\"/howto/default.asp\">HOW TO</a>,\n",
              " <a href=\"/howto/howto_js_tabs.asp\">Tabs</a>,\n",
              " <a href=\"/howto/howto_css_dropdown.asp\">Dropdowns</a>,\n",
              " <a href=\"/howto/howto_js_accordion.asp\">Accordions</a>,\n",
              " <a href=\"/howto/howto_js_sidenav.asp\">Side Navigation</a>,\n",
              " <a href=\"/howto/howto_js_topnav.asp\">Top Navigation</a>,\n",
              " <a href=\"/howto/howto_css_modals.asp\">Modal Boxes</a>,\n",
              " <a href=\"/howto/howto_js_progressbar.asp\">Progress Bars</a>,\n",
              " <a href=\"/howto/howto_css_parallax.asp\">Parallax</a>,\n",
              " <a href=\"/howto/howto_css_login_form.asp\">Login Form</a>,\n",
              " <a href=\"/howto/howto_html_include.asp\">HTML Includes</a>,\n",
              " <a href=\"/howto/howto_google_maps.asp\">Google Maps</a>,\n",
              " <a href=\"/howto/howto_js_rangeslider.asp\">Range Sliders</a>,\n",
              " <a href=\"/howto/howto_css_tooltip.asp\">Tooltips</a>,\n",
              " <a href=\"/howto/howto_js_slideshow.asp\">Slideshow</a>,\n",
              " <a href=\"/howto/howto_js_filter_lists.asp\">Filter List</a>,\n",
              " <a href=\"/howto/howto_js_sort_list.asp\">Sort List</a>,\n",
              " <a class=\"w3-hover-text-white\" href=\"/cert/default.asp\">Certificates</a>,\n",
              " <a class=\"w3-button w3-light-grey w3-block w3-border-bottom\" href=\"/cert/cert_html.asp\" style=\"text-decoration:none\">HTML</a>,\n",
              " <a class=\"w3-button w3-light-grey w3-block w3-border-bottom\" href=\"/cert/cert_css.asp\" style=\"text-decoration:none\">CSS</a>,\n",
              " <a class=\"w3-button w3-light-grey w3-block w3-border-bottom\" href=\"/cert/cert_javascript.asp\" style=\"text-decoration:none\">JavaScript</a>,\n",
              " <a class=\"w3-button w3-light-grey w3-block w3-border-bottom\" href=\"/cert/cert_python.asp\" style=\"text-decoration:none\">Python</a>,\n",
              " <a class=\"w3-button w3-light-grey w3-block w3-border-bottom\" href=\"/cert/cert_sql.asp\" style=\"text-decoration:none\">SQL</a>,\n",
              " <a class=\"w3-button w3-light-grey w3-block w3-border-bottom\" href=\"/cert/cert_php.asp\" style=\"text-decoration:none\">PHP</a>,\n",
              " <a class=\"w3-button w3-light-grey w3-block\" href=\"/cert/default.asp\" style=\"text-decoration:none\">And more</a>,\n",
              " <a class=\"w3-button w3-light-grey w3-block\" href=\"javascript:void(0);\" onclick=\"displayError();return false\" style=\"white-space:nowrap;text-decoration:none;margin-top:1px;margin-bottom:1px\">REPORT ERROR</a>,\n",
              " <a class=\"w3-button w3-light-grey w3-block\" href=\"/forum/default.asp\" style=\"text-decoration:none;margin-top:1px;margin-bottom:1px\" target=\"_blank\">FORUM</a>,\n",
              " <a class=\"w3-button w3-light-grey w3-block\" href=\"/about/default.asp\" style=\"text-decoration:none;margin-top:1px;margin-bottom:1px\" target=\"_top\">ABOUT</a>,\n",
              " <a class=\"w3-button w3-light-grey w3-block\" href=\"https://shop.w3schools.com/\" style=\"text-decoration:none;margin-top:1px;margin-bottom:1px\" target=\"_blank\">SHOP</a>,\n",
              " <a href=\"/html/default.asp\">HTML Tutorial</a>,\n",
              " <a href=\"/css/default.asp\">CSS Tutorial</a>,\n",
              " <a href=\"/js/default.asp\">JavaScript Tutorial</a>,\n",
              " <a href=\"/howto/default.asp\">How To Tutorial</a>,\n",
              " <a href=\"/sql/default.asp\">SQL Tutorial</a>,\n",
              " <a href=\"/python/default.asp\">Python Tutorial</a>,\n",
              " <a href=\"/w3css/default.asp\">W3.CSS Tutorial</a>,\n",
              " <a href=\"/bootstrap/bootstrap_ver.asp\">Bootstrap Tutorial</a>,\n",
              " <a href=\"/php/default.asp\">PHP Tutorial</a>,\n",
              " <a href=\"/java/default.asp\">Java Tutorial</a>,\n",
              " <a href=\"/cpp/default.asp\">C++ Tutorial</a>,\n",
              " <a href=\"/jquery/default.asp\">jQuery Tutorial</a>,\n",
              " <a href=\"/tags/default.asp\">HTML Reference</a>,\n",
              " <a href=\"/cssref/default.asp\">CSS Reference</a>,\n",
              " <a href=\"/jsref/default.asp\">JavaScript Reference</a>,\n",
              " <a href=\"/sql/sql_ref_keywords.asp\">SQL Reference</a>,\n",
              " <a href=\"/python/python_reference.asp\">Python Reference</a>,\n",
              " <a href=\"/w3css/w3css_references.asp\">W3.CSS Reference</a>,\n",
              " <a href=\"/bootstrap/bootstrap_ref_all_classes.asp\">Bootstrap Reference</a>,\n",
              " <a href=\"/php/php_ref_overview.asp\">PHP Reference</a>,\n",
              " <a href=\"/colors/colors_names.asp\">HTML Colors</a>,\n",
              " <a href=\"/java/java_ref_keywords.asp\">Java Reference</a>,\n",
              " <a href=\"/angular/angular_ref_directives.asp\">Angular Reference</a>,\n",
              " <a href=\"/jquery/jquery_ref_overview.asp\">jQuery Reference</a>,\n",
              " <a href=\"/html/html_examples.asp\">HTML Examples</a>,\n",
              " <a href=\"/css/css_examples.asp\">CSS Examples</a>,\n",
              " <a href=\"/js/js_examples.asp\">JavaScript Examples</a>,\n",
              " <a href=\"/howto/default.asp\">How To Examples</a>,\n",
              " <a href=\"/sql/sql_examples.asp\">SQL Examples</a>,\n",
              " <a href=\"/python/python_examples.asp\">Python Examples</a>,\n",
              " <a href=\"/w3css/w3css_examples.asp\">W3.CSS Examples</a>,\n",
              " <a href=\"/bootstrap/bootstrap_examples.asp\">Bootstrap Examples</a>,\n",
              " <a href=\"/php/php_examples.asp\">PHP Examples</a>,\n",
              " <a href=\"/java/java_examples.asp\">Java Examples</a>,\n",
              " <a href=\"/xml/xml_examples.asp\">XML Examples</a>,\n",
              " <a href=\"/jquery/jquery_examples.asp\">jQuery Examples</a>,\n",
              " <a href=\"/cert/default.asp\">HTML Certificate</a>,\n",
              " <a href=\"/cert/default.asp\">CSS Certificate</a>,\n",
              " <a href=\"/cert/default.asp\">JavaScript Certificate</a>,\n",
              " <a href=\"/cert/default.asp\">SQL Certificate</a>,\n",
              " <a href=\"/cert/default.asp\">Python Certificate</a>,\n",
              " <a href=\"/cert/default.asp\">PHP Certificate</a>,\n",
              " <a href=\"/cert/default.asp\">Bootstrap Certificate</a>,\n",
              " <a href=\"/cert/default.asp\">XML Certificate</a>,\n",
              " <a href=\"/cert/default.asp\">jQuery Certificate</a>,\n",
              " <a class=\"w3-button w3-margin-top w3-dark-grey\" href=\"//www.w3schools.com/cert/default.asp\" style=\"text-decoration:none\">\n",
              " Get Certified »</a>,\n",
              " <a href=\"/about/about_copyright.asp\">terms of use</a>,\n",
              " <a href=\"/about/about_privacy.asp\">cookie and privacy policy</a>,\n",
              " <a href=\"/about/about_copyright.asp\">Copyright 1999-2020</a>,\n",
              " <a href=\"//www.w3schools.com/w3css/default.asp\">W3Schools is Powered by W3.CSS</a>,\n",
              " <a href=\"//www.w3schools.com\">\n",
              " <img alt=\"W3Schools.com\" src=\"/images/w3schoolscom_gray.gif\" style=\"width:150px;height:28px;border:0\"/></a>]"
            ]
          },
          "metadata": {
            "tags": []
          },
          "execution_count": 14
        }
      ]
    },
    {
      "cell_type": "code",
      "metadata": {
        "colab": {
          "base_uri": "https://localhost:8080/",
          "height": 347
        },
        "id": "QKhtH_hy6eXZ",
        "outputId": "cf4f8212-4e11-4fae-e780-a3b54f7d5a79"
      },
      "source": [
        "list_data = list(zip(halaman))    \r\n",
        "hanyahalaman = PD.DataFrame(list_data, columns = ['Halaman'])\r\n",
        "hanyahalaman"
      ],
      "execution_count": null,
      "outputs": [
        {
          "output_type": "execute_result",
          "data": {
            "text/html": [
              "<div>\n",
              "<style scoped>\n",
              "    .dataframe tbody tr th:only-of-type {\n",
              "        vertical-align: middle;\n",
              "    }\n",
              "\n",
              "    .dataframe tbody tr th {\n",
              "        vertical-align: top;\n",
              "    }\n",
              "\n",
              "    .dataframe thead th {\n",
              "        text-align: right;\n",
              "    }\n",
              "</style>\n",
              "<table border=\"1\" class=\"dataframe\">\n",
              "  <thead>\n",
              "    <tr style=\"text-align: right;\">\n",
              "      <th></th>\n",
              "      <th>Halaman</th>\n",
              "    </tr>\n",
              "  </thead>\n",
              "  <tbody>\n",
              "    <tr>\n",
              "      <th>0</th>\n",
              "      <td>[[ , [],  ], [ , [ , &lt;span class=\"g-menu-item-...</td>\n",
              "    </tr>\n",
              "    <tr>\n",
              "      <th>1</th>\n",
              "      <td>[[w3schools, [.com]], [], [], [HTML], [CSS], [...</td>\n",
              "    </tr>\n",
              "    <tr>\n",
              "      <th>2</th>\n",
              "      <td>[[[]], [Tutorials], [Articles], [Snippets], [[...</td>\n",
              "    </tr>\n",
              "    <tr>\n",
              "      <th>3</th>\n",
              "      <td>[[Lanjut ke konten], [yadishare], [Odoo/OpenER...</td>\n",
              "    </tr>\n",
              "    <tr>\n",
              "      <th>4</th>\n",
              "      <td>[[Lanjut ke konten], [yadishare], [Odoo/OpenER...</td>\n",
              "    </tr>\n",
              "    <tr>\n",
              "      <th>5</th>\n",
              "      <td>[[Lanjut ke konten], [yadishare], [Odoo/OpenER...</td>\n",
              "    </tr>\n",
              "    <tr>\n",
              "      <th>6</th>\n",
              "      <td>[[\\n, [], \\n], [\\n, [], \\n], [Tentang Kami], [...</td>\n",
              "    </tr>\n",
              "    <tr>\n",
              "      <th>7</th>\n",
              "      <td>[[Skip to main content], [Badoy Studio], [Home...</td>\n",
              "    </tr>\n",
              "    <tr>\n",
              "      <th>8</th>\n",
              "      <td>[[Skip to main content], [Badoy Studio], [Home...</td>\n",
              "    </tr>\n",
              "    <tr>\n",
              "      <th>9</th>\n",
              "      <td>[[[]], [[&lt;use xlink:href=\"#icon-menu\"&gt;&lt;/use&gt;],...</td>\n",
              "    </tr>\n",
              "  </tbody>\n",
              "</table>\n",
              "</div>"
            ],
            "text/plain": [
              "                                             Halaman\n",
              "0  [[ , [],  ], [ , [ , <span class=\"g-menu-item-...\n",
              "1  [[w3schools, [.com]], [], [], [HTML], [CSS], [...\n",
              "2  [[[]], [Tutorials], [Articles], [Snippets], [[...\n",
              "3  [[Lanjut ke konten], [yadishare], [Odoo/OpenER...\n",
              "4  [[Lanjut ke konten], [yadishare], [Odoo/OpenER...\n",
              "5  [[Lanjut ke konten], [yadishare], [Odoo/OpenER...\n",
              "6  [[\\n, [], \\n], [\\n, [], \\n], [Tentang Kami], [...\n",
              "7  [[Skip to main content], [Badoy Studio], [Home...\n",
              "8  [[Skip to main content], [Badoy Studio], [Home...\n",
              "9  [[[]], [[<use xlink:href=\"#icon-menu\"></use>],..."
            ]
          },
          "metadata": {
            "tags": []
          },
          "execution_count": 15
        }
      ]
    },
    {
      "cell_type": "code",
      "metadata": {
        "id": "fSKuL30f6iva"
      },
      "source": [
        "export_excel = hanyahalaman.to_excel ('hanyahalaman.xlsx', index = None, header=True)"
      ],
      "execution_count": null,
      "outputs": []
    },
    {
      "cell_type": "code",
      "metadata": {
        "colab": {
          "base_uri": "https://localhost:8080/",
          "height": 347
        },
        "id": "yZK6_84e6jyO",
        "outputId": "47856509-ade2-4000-eca4-a4e5aacf5193"
      },
      "source": [
        "list_data = list(zip(link))    \r\n",
        "hanyalink = PD.DataFrame(list_data, columns = ['Link'])\r\n",
        "hanyalink"
      ],
      "execution_count": null,
      "outputs": [
        {
          "output_type": "execute_result",
          "data": {
            "text/html": [
              "<div>\n",
              "<style scoped>\n",
              "    .dataframe tbody tr th:only-of-type {\n",
              "        vertical-align: middle;\n",
              "    }\n",
              "\n",
              "    .dataframe tbody tr th {\n",
              "        vertical-align: top;\n",
              "    }\n",
              "\n",
              "    .dataframe thead th {\n",
              "        text-align: right;\n",
              "    }\n",
              "</style>\n",
              "<table border=\"1\" class=\"dataframe\">\n",
              "  <thead>\n",
              "    <tr style=\"text-align: right;\">\n",
              "      <th></th>\n",
              "      <th>Link</th>\n",
              "    </tr>\n",
              "  </thead>\n",
              "  <tbody>\n",
              "    <tr>\n",
              "      <th>0</th>\n",
              "      <td>https://www.guru99.com/python-tutorials.html</td>\n",
              "    </tr>\n",
              "    <tr>\n",
              "      <th>1</th>\n",
              "      <td>https://www.w3schools.com/python/</td>\n",
              "    </tr>\n",
              "    <tr>\n",
              "      <th>2</th>\n",
              "      <td>http://jagocoding.com/tag/python</td>\n",
              "    </tr>\n",
              "    <tr>\n",
              "      <th>3</th>\n",
              "      <td>https://yadishare.wordpress.com/2018/01/16/tut...</td>\n",
              "    </tr>\n",
              "    <tr>\n",
              "      <th>4</th>\n",
              "      <td>https://www.dewaweb.com/blog/belajar-coding-un...</td>\n",
              "    </tr>\n",
              "    <tr>\n",
              "      <th>5</th>\n",
              "      <td>https://belajarphp.net/belajar-html-dan-css/</td>\n",
              "    </tr>\n",
              "    <tr>\n",
              "      <th>6</th>\n",
              "      <td>https://www.kodingindonesia.com/belajar-pemrog...</td>\n",
              "    </tr>\n",
              "    <tr>\n",
              "      <th>7</th>\n",
              "      <td>https://badoystudio.com/belajar-android-untuk-...</td>\n",
              "    </tr>\n",
              "    <tr>\n",
              "      <th>8</th>\n",
              "      <td>https://www.domainesia.com/berita/belajar-codi...</td>\n",
              "    </tr>\n",
              "    <tr>\n",
              "      <th>9</th>\n",
              "      <td>https://www.kompasiana.com/deniasilvia95/5c527...</td>\n",
              "    </tr>\n",
              "  </tbody>\n",
              "</table>\n",
              "</div>"
            ],
            "text/plain": [
              "                                                Link\n",
              "0       https://www.guru99.com/python-tutorials.html\n",
              "1                  https://www.w3schools.com/python/\n",
              "2                   http://jagocoding.com/tag/python\n",
              "3  https://yadishare.wordpress.com/2018/01/16/tut...\n",
              "4  https://www.dewaweb.com/blog/belajar-coding-un...\n",
              "5       https://belajarphp.net/belajar-html-dan-css/\n",
              "6  https://www.kodingindonesia.com/belajar-pemrog...\n",
              "7  https://badoystudio.com/belajar-android-untuk-...\n",
              "8  https://www.domainesia.com/berita/belajar-codi...\n",
              "9  https://www.kompasiana.com/deniasilvia95/5c527..."
            ]
          },
          "metadata": {
            "tags": []
          },
          "execution_count": 17
        }
      ]
    },
    {
      "cell_type": "code",
      "metadata": {
        "colab": {
          "base_uri": "https://localhost:8080/",
          "height": 347
        },
        "id": "LuY704S16n9H",
        "outputId": "33616fc3-269b-4abf-8747-99de5920471a"
      },
      "source": [
        "list_data = list(zip(data))    \r\n",
        "hanyadata = PD.DataFrame(list_data, columns = ['Data'])\r\n",
        "hanyadata"
      ],
      "execution_count": null,
      "outputs": [
        {
          "output_type": "execute_result",
          "data": {
            "text/html": [
              "<div>\n",
              "<style scoped>\n",
              "    .dataframe tbody tr th:only-of-type {\n",
              "        vertical-align: middle;\n",
              "    }\n",
              "\n",
              "    .dataframe tbody tr th {\n",
              "        vertical-align: top;\n",
              "    }\n",
              "\n",
              "    .dataframe thead th {\n",
              "        text-align: right;\n",
              "    }\n",
              "</style>\n",
              "<table border=\"1\" class=\"dataframe\">\n",
              "  <thead>\n",
              "    <tr style=\"text-align: right;\">\n",
              "      <th></th>\n",
              "      <th>Data</th>\n",
              "    </tr>\n",
              "  </thead>\n",
              "  <tbody>\n",
              "    <tr>\n",
              "      <th>0</th>\n",
              "      <td>Python Tutorials for Beginners Home Testing Ba...</td>\n",
              "    </tr>\n",
              "    <tr>\n",
              "      <th>1</th>\n",
              "      <td>Python Tutorial w3schools.com LOG IN THE WORLD...</td>\n",
              "    </tr>\n",
              "    <tr>\n",
              "      <th>2</th>\n",
              "      <td>Tutorial python - Jagocoding.com Toggle naviga...</td>\n",
              "    </tr>\n",
              "    <tr>\n",
              "      <th>3</th>\n",
              "      <td>Tutorial Belajar Visual Basic 6 Dari Dasar Unt...</td>\n",
              "    </tr>\n",
              "    <tr>\n",
              "      <th>4</th>\n",
              "      <td>NaN</td>\n",
              "    </tr>\n",
              "    <tr>\n",
              "      <th>5</th>\n",
              "      <td>NaN</td>\n",
              "    </tr>\n",
              "    <tr>\n",
              "      <th>6</th>\n",
              "      <td>Belajar Pemrograman Visual Java Menggunakan Ne...</td>\n",
              "    </tr>\n",
              "    <tr>\n",
              "      <th>7</th>\n",
              "      <td>√ Belajar Android untuk Pemula dengan Android ...</td>\n",
              "    </tr>\n",
              "    <tr>\n",
              "      <th>8</th>\n",
              "      <td>NaN</td>\n",
              "    </tr>\n",
              "    <tr>\n",
              "      <th>9</th>\n",
              "      <td>Cara Belajar Coding untuk Pemula dengan Mudah ...</td>\n",
              "    </tr>\n",
              "  </tbody>\n",
              "</table>\n",
              "</div>"
            ],
            "text/plain": [
              "                                                Data\n",
              "0  Python Tutorials for Beginners Home Testing Ba...\n",
              "1  Python Tutorial w3schools.com LOG IN THE WORLD...\n",
              "2  Tutorial python - Jagocoding.com Toggle naviga...\n",
              "3  Tutorial Belajar Visual Basic 6 Dari Dasar Unt...\n",
              "4                                                NaN\n",
              "5                                                NaN\n",
              "6  Belajar Pemrograman Visual Java Menggunakan Ne...\n",
              "7  √ Belajar Android untuk Pemula dengan Android ...\n",
              "8                                                NaN\n",
              "9  Cara Belajar Coding untuk Pemula dengan Mudah ..."
            ]
          },
          "metadata": {
            "tags": []
          },
          "execution_count": 18
        }
      ]
    },
    {
      "cell_type": "code",
      "metadata": {
        "id": "X_9aV9o86rVP"
      },
      "source": [
        "export_excel = hanyadata.to_excel ('hanyadata.xlsx', index = None, header=True)"
      ],
      "execution_count": null,
      "outputs": []
    },
    {
      "cell_type": "code",
      "metadata": {
        "colab": {
          "base_uri": "https://localhost:8080/",
          "height": 118
        },
        "id": "wsxFXhcO6sTn",
        "outputId": "74ef8398-25fe-49b5-aad5-e79a26214fcb"
      },
      "source": [
        "data[1]"
      ],
      "execution_count": null,
      "outputs": [
        {
          "output_type": "execute_result",
          "data": {
            "application/vnd.google.colaboratory.intrinsic+json": {
              "type": "string"
            },
            "text/plain": [
              "'Python Tutorial w3schools.com LOG IN THE WORLD\\'S LARGEST WEB DEVELOPER SITE HTML CSS JAVASCRIPT SQL PYTHON PHP BOOTSTRAP HOW TO W3.CSS JQUERY JAVA MORE \\ue802 \\ue801 \\ue80b SHOP CERTIFICATES REFERENCES EXERCISES × HTML and CSS Learn HTML Learn CSS Learn Bootstrap Learn W3.CSS Learn Colors Learn Icons Learn Graphics Learn SVG Learn Canvas Learn How To Learn Sass XML Learn XML Learn XML AJAX Learn XML DOM Learn XML DTD Learn XML Schema Learn XSLT Learn XPath Learn XQuery JavaScript Learn JavaScript Learn jQuery Learn React Learn AngularJS Learn JSON Learn AJAX Learn AppML Learn W3.JS Programming Learn Python Learn Java Learn C++ Learn C# Learn R Learn Machine Learning Data Science Learn Pandas Server Side Learn SQL Learn PHP Learn ASP Learn Node.js Learn Raspberry Pi Web Building Web Templates Web Statistics Web Certificates Web Editor Web Development Test Your Typing Speed XML Learn XML Learn XML AJAX Learn XML DOM Learn XML DTD Learn XML Schema Learn XSLT Learn XPath Learn XQuery × HTML HTML Tag Reference HTML Browser Support HTML Event Reference HTML Color Reference HTML Attribute Reference HTML Canvas Reference HTML SVG Reference HTML Character Sets Google Maps Reference CSS CSS Reference CSS Browser Support CSS Selector Reference Bootstrap 3 Reference Bootstrap 4 Reference W3.CSS Reference Icon Reference Sass Reference JavaScript JavaScript Reference HTML DOM Reference jQuery Reference AngularJS Reference AppML Reference W3.JS Reference Programming Python Reference Java Reference Server Side SQL Reference PHP Reference ASP Reference XML XML Reference XML Http Reference XSLT Reference XML Schema Reference Character Sets HTML Character Sets HTML ASCII HTML ANSI HTML Windows-1252 HTML ISO-8859-1 HTML Symbols HTML UTF-8 × Exercises HTML Exercises CSS Exercises JavaScript Exercises SQL Exercises PHP Exercises Python Exercises jQuery Exercises Bootstrap Exercises Java Exercises C++ Exercises C# Exercises Quizzes HTML Quiz CSS Quiz JavaScript Quiz SQL Quiz PHP Quiz Python Quiz jQuery Quiz Bootstrap Quiz Java Quiz C++ Quiz C# Quiz XML Quiz Certificates HTML Certificate CSS Certificate JavaScript Certificate SQL Certificate PHP Certificate Python Certificate jQuery Certificate Bootstrap Certificate XML Certificate × LOG IN Why Log In? Username Password LOG IN New User? Sign Up For Free! Forgot password? Python Tutorial Python HOME Python Intro Python Get Started Python Syntax Python Comments Python Variables Python Variables Variable Names Assign Multiple Values Output Variables Global Variables Variable Exercises Python Data Types Python Numbers Python Casting Python Strings Python Strings Slicing Strings Modify Strings Concatenate Strings Format Strings Escape Characters String Methods String Exercises Python Booleans Python Operators Python Lists Python Lists Access List Items Change List Items Add List Items Remove List Items Loop Lists List Comprehension Sort Lists Copy Lists Join Lists List Methods List Exercises Python Tuples Python Tuples Access Tuples Update Tuples Unpack Tuples Loop Tuples Join Tuples Tuple Methods Tuple Exercises Python Sets Python Sets Access Set Items Add Set Items Remove Set Items Loop Sets Join Sets Set Methods Set Exercises Python Dictionaries Python Dictionaries Access Items Change Items Add Items Remove Items Loop Dictionaries Copy Dictionaries Nested Dictionaries Dictionary Methods Dictionary Exercise Python If...Else Python While Loops Python For Loops Python Functions Python Lambda Python Arrays Python Classes/Objects Python Inheritance Python Iterators Python Scope Python Modules Python Dates Python Math Python JSON Python RegEx Python PIP Python Try...Except Python User Input Python String Formatting File Handling Python File Handling Python Read Files Python Write/Create Files Python Delete Files Python NumPy NumPy Intro NumPy Getting Started NumPy Creating Arrays NumPy Array Indexing NumPy Array Slicing NumPy Data Types NumPy Copy vs View NumPy Array Shape NumPy Array Reshape NumPy Array Iterating NumPy Array Join NumPy Array Split NumPy Array Search NumPy Array Sort NumPy Array Filter NumPy Random Random Intro Data Distribution Random Permutation Seaborn Module Normal Distribution Binomial Distribution Poisson Distribution Uniform Distribution Logistic Distribution Multinomial Distribution Exponential Distribution Chi Square Distribution Rayleigh Distribution Pareto Distribution Zipf Distribution NumPy ufunc ufunc Intro ufunc Create Function ufunc Simple Arithmetic ufunc Rounding Decimals ufunc Logs ufunc Summations ufunc Products ufunc Differences ufunc Finding LCM ufunc Finding GCD ufunc Trigonometric ufunc Hyperbolic ufunc Set Operations Python Pandas Pandas Tutorial Pandas Getting Started Pandas Series Pandas DataFrames Pandas Read CSV Pandas Read JSON Pandas Analyzing Data Pandas Cleaning Data Pandas Cleaning Data Cleaning Empty Cells Cleaning Wrong Format Cleaning Wrong Data Removing Duplicates Pandas Correlations Pandas Plotting Python Matplotlib Matplotlib Intro Matplotlib Get Started Matplotlib Pyplot Matplotlib Plotting Matplotlib Markers Matplotlib Line Matplotlib Subplots Matplotlib Scatter Matplotlib Bars Matplotlib Histograms Matplotlib Pie Charts Python SciPy SciPy Intro SciPy Getting Started SciPy Constants SciPy Optimizers SciPy Sparse Data SciPy Graphs SciPy Spatial Data SciPy Matlab Arrays SciPy Interpolation SciPy Significance Tests Machine Learning Getting Started Mean Median Mode Standard Deviation Percentile Data Distribution Normal Data Distribution Scatter Plot Linear Regression Polynomial Regression Multiple Regression Scale Train/Test Decision Tree Python MySQL MySQL Get Started MySQL Create Database MySQL Create Table MySQL Insert MySQL Select MySQL Where MySQL Order By MySQL Delete MySQL Drop Table MySQL Update MySQL Limit MySQL Join Python MongoDB MongoDB Get Started MongoDB Create Database MongoDB Create Collection MongoDB Insert MongoDB Find MongoDB Query MongoDB Sort MongoDB Delete MongoDB Drop Collection MongoDB Update MongoDB Limit Python Reference Python Overview Python Built-in Functions Python String Methods Python List Methods Python Dictionary Methods Python Tuple Methods Python Set Methods Python File Methods Python Keywords Python Exceptions Python Glossary Module Reference Random Module Requests Module Statistics Module Math Module cMath Module Python How To Remove List Duplicates Reverse a String Add Two Numbers Python Examples Python Examples Python Compiler Python Exercises Python Quiz Python Certificate Python Tutorial ❮ Home Next ❯ Python is a programming language. Python can be used on a server to create web applications. Start learning Python now » Learning by Examples With our \"Try it Yourself\" editor, you can edit Python code and view the result. Example print(\"Hello, World!\") Try it Yourself » Click on the \"Try it Yourself\" button to see how it works. Python File Handling In our File Handling section you will learn how to open, read, write, and delete files. Python File Handling Python Database Handling In our database section you will learn how to access and work with MySQL and MongoDB databases: Python MySQL Tutorial Python MongoDB Tutorial Python Exercises Test Yourself With Exercises Exercise: Insert the missing part of the code below to output \"Hello World\". (\"Hello World\") Submit Answer » Start the Exercise Python Examples Learn by examples! This tutorial supplements all explanations with clarifying examples. See All Python Examples Python Quiz Test your Python skills with a quiz. Python Quiz Python Reference You will also find complete function and method references: Reference Overview Built-in Functions String Methods List/Array Methods Dictionary Methods Tuple Methods Set Methods File Methods Python Keywords Python Exceptions Python Glossary Random Module Requests Module Math Module CMath Module Download Python Download Python from the official Python web site: https://python.org Python Exam - Get Your Diploma! W3Schools\\' Online Certification The perfect solution for professionals who need to balance work, family, and career building. More than 25 000 certificates already issued! Get Your Certificate » The HTML Certificate documents your knowledge of HTML. The CSS Certificate documents your knowledge of advanced CSS. The JavaScript Certificate documents your knowledge of JavaScript and HTML DOM. The Python Certificate documents your knowledge of Python. The jQuery Certificate documents your knowledge of jQuery. The SQL Certificate documents your knowledge of SQL. The PHP Certificate documents your knowledge of PHP and MySQL. The XML Certificate documents your knowledge of XML, XML DOM and XSLT. The Bootstrap Certificate documents your knowledge of the Bootstrap framework. ❮ Home Next ❯ COLOR PICKER LIKE US HOW TO Tabs Dropdowns Accordions Side Navigation Top Navigation Modal Boxes Progress Bars Parallax Login Form HTML Includes Google Maps Range Sliders Tooltips Slideshow Filter List Sort List Certificates HTML CSS JavaScript Python SQL PHP And more REPORT ERROR FORUM ABOUT SHOP × Report Error If you want to report an error, or if you want to make a suggestion, do not hesitate to send us an e-mail: help@w3schools.com × Thank You For Helping Us! Your message has been sent to W3Schools. Top Tutorials HTML Tutorial CSS Tutorial JavaScript Tutorial How To Tutorial SQL Tutorial Python Tutorial W3.CSS Tutorial Bootstrap Tutorial PHP Tutorial Java Tutorial C++ Tutorial jQuery Tutorial Top References HTML Reference CSS Reference JavaScript Reference SQL Reference Python Reference W3.CSS Reference Bootstrap Reference PHP Reference HTML Colors Java Reference Angular Reference jQuery Reference Top Examples HTML Examples CSS Examples JavaScript Examples How To Examples SQL Examples Python Examples W3.CSS Examples Bootstrap Examples PHP Examples Java Examples XML Examples jQuery Examples Web Certificates HTML Certificate CSS Certificate JavaScript Certificate SQL Certificate Python Certificate PHP Certificate Bootstrap Certificate XML Certificate jQuery Certificate Get Certified » W3Schools is optimized for learning and training. Examples might be simplified to improve reading and learning. Tutorials, references, and examples are constantly reviewed to avoid errors, but we cannot warrant full correctness of all content. While using W3Schools, you agree to have read and accepted our terms of use, cookie and privacy policy. Copyright 1999-2020 by Refsnes Data. All Rights Reserved. W3Schools is Powered by W3.CSS.'"
            ]
          },
          "metadata": {
            "tags": []
          },
          "execution_count": 20
        }
      ]
    }
  ]
}